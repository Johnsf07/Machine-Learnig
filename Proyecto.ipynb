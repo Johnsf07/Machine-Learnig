{
 "cells": [
  {
   "cell_type": "code",
   "execution_count": 1,
   "id": "dc702117",
   "metadata": {},
   "outputs": [],
   "source": [
    "from sqlalchemy import create_engine\n",
    "import pymysql\n",
    "import pandas as pd"
   ]
  },
  {
   "cell_type": "code",
   "execution_count": 2,
   "id": "6d1f12ca",
   "metadata": {},
   "outputs": [
    {
     "name": "stdout",
     "output_type": "stream",
     "text": [
      "Defaulting to user installation because normal site-packages is not writeable\n",
      "Requirement already satisfied: matplotlib in c:\\users\\jonathan\\appdata\\roaming\\python\\python310\\site-packages (3.8.2)\n",
      "Requirement already satisfied: packaging>=20.0 in c:\\programdata\\anaconda3\\lib\\site-packages (from matplotlib) (22.0)\n",
      "Requirement already satisfied: python-dateutil>=2.7 in c:\\programdata\\anaconda3\\lib\\site-packages (from matplotlib) (2.8.2)\n",
      "Requirement already satisfied: pyparsing>=2.3.1 in c:\\programdata\\anaconda3\\lib\\site-packages (from matplotlib) (3.0.9)\n",
      "Requirement already satisfied: contourpy>=1.0.1 in c:\\programdata\\anaconda3\\lib\\site-packages (from matplotlib) (1.0.5)\n",
      "Requirement already satisfied: pillow>=8 in c:\\programdata\\anaconda3\\lib\\site-packages (from matplotlib) (9.4.0)\n",
      "Requirement already satisfied: numpy<2,>=1.21 in c:\\programdata\\anaconda3\\lib\\site-packages (from matplotlib) (1.23.5)\n",
      "Requirement already satisfied: kiwisolver>=1.3.1 in c:\\programdata\\anaconda3\\lib\\site-packages (from matplotlib) (1.4.4)\n",
      "Requirement already satisfied: fonttools>=4.22.0 in c:\\programdata\\anaconda3\\lib\\site-packages (from matplotlib) (4.25.0)\n",
      "Requirement already satisfied: cycler>=0.10 in c:\\programdata\\anaconda3\\lib\\site-packages (from matplotlib) (0.11.0)\n",
      "Requirement already satisfied: six>=1.5 in c:\\programdata\\anaconda3\\lib\\site-packages (from python-dateutil>=2.7->matplotlib) (1.16.0)\n",
      "Note: you may need to restart the kernel to use updated packages.\n"
     ]
    }
   ],
   "source": [
    "pip install matplotlib --upgrade"
   ]
  },
  {
   "cell_type": "markdown",
   "id": "27001026",
   "metadata": {},
   "source": [
    "<h4 Style = \"color: #e35241\"> Cargando y examinando los datos </h4>"
   ]
  },
  {
   "cell_type": "code",
   "execution_count": 3,
   "id": "67bc7192",
   "metadata": {},
   "outputs": [],
   "source": [
    "connection = pymysql.connect(host='data-analytics-2018.cbrosir2cswx.us-east-1.rds.amazonaws.com',\n",
    "user='deepAnalytics',\n",
    "password='Sqltask1234!',\n",
    "database='Credit',\n",
    "charset='utf8mb4',\n",
    "cursorclass=pymysql.cursors.DictCursor)"
   ]
  },
  {
   "cell_type": "code",
   "execution_count": 4,
   "id": "58647011",
   "metadata": {},
   "outputs": [
    {
     "name": "stderr",
     "output_type": "stream",
     "text": [
      "C:\\Users\\Jonathan\\AppData\\Local\\Temp\\ipykernel_2396\\3787531507.py:1: UserWarning: pandas only supports SQLAlchemy connectable (engine/connection) or database string URI or sqlite3 DBAPI2 connection. Other DBAPI2 objects are not tested. Please consider using SQLAlchemy.\n",
      "  df = pd.read_sql('SELECT * FROM credit', con=connection)\n"
     ]
    }
   ],
   "source": [
    "df = pd.read_sql('SELECT * FROM credit', con=connection)"
   ]
  },
  {
   "cell_type": "code",
   "execution_count": 5,
   "id": "005212dc",
   "metadata": {},
   "outputs": [],
   "source": [
    "df.to_csv('BancoUno.csv', header=False, index=False)"
   ]
  },
  {
   "cell_type": "code",
   "execution_count": 6,
   "id": "ac254545",
   "metadata": {},
   "outputs": [
    {
     "data": {
      "text/html": [
       "<div>\n",
       "<style scoped>\n",
       "    .dataframe tbody tr th:only-of-type {\n",
       "        vertical-align: middle;\n",
       "    }\n",
       "\n",
       "    .dataframe tbody tr th {\n",
       "        vertical-align: top;\n",
       "    }\n",
       "\n",
       "    .dataframe thead th {\n",
       "        text-align: right;\n",
       "    }\n",
       "</style>\n",
       "<table border=\"1\" class=\"dataframe\">\n",
       "  <thead>\n",
       "    <tr style=\"text-align: right;\">\n",
       "      <th></th>\n",
       "      <th>X1</th>\n",
       "      <th>X2</th>\n",
       "      <th>X3</th>\n",
       "      <th>X4</th>\n",
       "      <th>X5</th>\n",
       "      <th>X6</th>\n",
       "      <th>X7</th>\n",
       "      <th>X8</th>\n",
       "      <th>X9</th>\n",
       "      <th>X10</th>\n",
       "      <th>...</th>\n",
       "      <th>X15</th>\n",
       "      <th>X16</th>\n",
       "      <th>X17</th>\n",
       "      <th>X18</th>\n",
       "      <th>X19</th>\n",
       "      <th>X20</th>\n",
       "      <th>X21</th>\n",
       "      <th>X22</th>\n",
       "      <th>X23</th>\n",
       "      <th>Y</th>\n",
       "    </tr>\n",
       "  </thead>\n",
       "  <tbody>\n",
       "    <tr>\n",
       "      <th>0</th>\n",
       "      <td>LIMIT_BAL</td>\n",
       "      <td>SEX</td>\n",
       "      <td>EDUCATION</td>\n",
       "      <td>MARRIAGE</td>\n",
       "      <td>AGE</td>\n",
       "      <td>PAY_0</td>\n",
       "      <td>PAY_2</td>\n",
       "      <td>PAY_3</td>\n",
       "      <td>PAY_4</td>\n",
       "      <td>PAY_5</td>\n",
       "      <td>...</td>\n",
       "      <td>BILL_AMT4</td>\n",
       "      <td>BILL_AMT5</td>\n",
       "      <td>BILL_AMT6</td>\n",
       "      <td>PAY_AMT1</td>\n",
       "      <td>PAY_AMT2</td>\n",
       "      <td>PAY_AMT3</td>\n",
       "      <td>PAY_AMT4</td>\n",
       "      <td>PAY_AMT5</td>\n",
       "      <td>PAY_AMT6</td>\n",
       "      <td>default payment next month</td>\n",
       "    </tr>\n",
       "    <tr>\n",
       "      <th>1</th>\n",
       "      <td>20000</td>\n",
       "      <td>female</td>\n",
       "      <td>university</td>\n",
       "      <td>1</td>\n",
       "      <td>24</td>\n",
       "      <td>2</td>\n",
       "      <td>2</td>\n",
       "      <td>-1</td>\n",
       "      <td>-1</td>\n",
       "      <td>-2</td>\n",
       "      <td>...</td>\n",
       "      <td>0</td>\n",
       "      <td>0</td>\n",
       "      <td>0</td>\n",
       "      <td>0</td>\n",
       "      <td>689</td>\n",
       "      <td>0</td>\n",
       "      <td>0</td>\n",
       "      <td>0</td>\n",
       "      <td>0</td>\n",
       "      <td>default</td>\n",
       "    </tr>\n",
       "    <tr>\n",
       "      <th>2</th>\n",
       "      <td>120000</td>\n",
       "      <td>female</td>\n",
       "      <td>university</td>\n",
       "      <td>2</td>\n",
       "      <td>26</td>\n",
       "      <td>-1</td>\n",
       "      <td>2</td>\n",
       "      <td>0</td>\n",
       "      <td>0</td>\n",
       "      <td>0</td>\n",
       "      <td>...</td>\n",
       "      <td>3272</td>\n",
       "      <td>3455</td>\n",
       "      <td>3261</td>\n",
       "      <td>0</td>\n",
       "      <td>1000</td>\n",
       "      <td>1000</td>\n",
       "      <td>1000</td>\n",
       "      <td>0</td>\n",
       "      <td>2000</td>\n",
       "      <td>default</td>\n",
       "    </tr>\n",
       "    <tr>\n",
       "      <th>3</th>\n",
       "      <td>90000</td>\n",
       "      <td>female</td>\n",
       "      <td>university</td>\n",
       "      <td>2</td>\n",
       "      <td>34</td>\n",
       "      <td>0</td>\n",
       "      <td>0</td>\n",
       "      <td>0</td>\n",
       "      <td>0</td>\n",
       "      <td>0</td>\n",
       "      <td>...</td>\n",
       "      <td>14331</td>\n",
       "      <td>14948</td>\n",
       "      <td>15549</td>\n",
       "      <td>1518</td>\n",
       "      <td>1500</td>\n",
       "      <td>1000</td>\n",
       "      <td>1000</td>\n",
       "      <td>1000</td>\n",
       "      <td>5000</td>\n",
       "      <td>not default</td>\n",
       "    </tr>\n",
       "    <tr>\n",
       "      <th>4</th>\n",
       "      <td>50000</td>\n",
       "      <td>female</td>\n",
       "      <td>university</td>\n",
       "      <td>1</td>\n",
       "      <td>37</td>\n",
       "      <td>0</td>\n",
       "      <td>0</td>\n",
       "      <td>0</td>\n",
       "      <td>0</td>\n",
       "      <td>0</td>\n",
       "      <td>...</td>\n",
       "      <td>28314</td>\n",
       "      <td>28959</td>\n",
       "      <td>29547</td>\n",
       "      <td>2000</td>\n",
       "      <td>2019</td>\n",
       "      <td>1200</td>\n",
       "      <td>1100</td>\n",
       "      <td>1069</td>\n",
       "      <td>1000</td>\n",
       "      <td>not default</td>\n",
       "    </tr>\n",
       "  </tbody>\n",
       "</table>\n",
       "<p>5 rows × 24 columns</p>\n",
       "</div>"
      ],
      "text/plain": [
       "          X1      X2          X3        X4   X5     X6     X7     X8     X9  \\\n",
       "0  LIMIT_BAL     SEX   EDUCATION  MARRIAGE  AGE  PAY_0  PAY_2  PAY_3  PAY_4   \n",
       "1      20000  female  university         1   24      2      2     -1     -1   \n",
       "2     120000  female  university         2   26     -1      2      0      0   \n",
       "3      90000  female  university         2   34      0      0      0      0   \n",
       "4      50000  female  university         1   37      0      0      0      0   \n",
       "\n",
       "     X10  ...        X15        X16        X17       X18       X19       X20  \\\n",
       "0  PAY_5  ...  BILL_AMT4  BILL_AMT5  BILL_AMT6  PAY_AMT1  PAY_AMT2  PAY_AMT3   \n",
       "1     -2  ...          0          0          0         0       689         0   \n",
       "2      0  ...       3272       3455       3261         0      1000      1000   \n",
       "3      0  ...      14331      14948      15549      1518      1500      1000   \n",
       "4      0  ...      28314      28959      29547      2000      2019      1200   \n",
       "\n",
       "        X21       X22       X23                           Y  \n",
       "0  PAY_AMT4  PAY_AMT5  PAY_AMT6  default payment next month  \n",
       "1         0         0         0                     default  \n",
       "2      1000         0      2000                     default  \n",
       "3      1000      1000      5000                 not default  \n",
       "4      1100      1069      1000                 not default  \n",
       "\n",
       "[5 rows x 24 columns]"
      ]
     },
     "execution_count": 6,
     "metadata": {},
     "output_type": "execute_result"
    }
   ],
   "source": [
    "df.head()"
   ]
  },
  {
   "cell_type": "markdown",
   "id": "9a088bd8",
   "metadata": {},
   "source": [
    "<h4 Style = \"color: #e35241\"> Cambiando el nombre del dataframe </h4>"
   ]
  },
  {
   "cell_type": "code",
   "execution_count": 7,
   "id": "8765ab1c",
   "metadata": {},
   "outputs": [],
   "source": [
    "credit=df"
   ]
  },
  {
   "cell_type": "code",
   "execution_count": 8,
   "id": "f4dfcd67",
   "metadata": {},
   "outputs": [
    {
     "data": {
      "text/html": [
       "<div>\n",
       "<style scoped>\n",
       "    .dataframe tbody tr th:only-of-type {\n",
       "        vertical-align: middle;\n",
       "    }\n",
       "\n",
       "    .dataframe tbody tr th {\n",
       "        vertical-align: top;\n",
       "    }\n",
       "\n",
       "    .dataframe thead th {\n",
       "        text-align: right;\n",
       "    }\n",
       "</style>\n",
       "<table border=\"1\" class=\"dataframe\">\n",
       "  <thead>\n",
       "    <tr style=\"text-align: right;\">\n",
       "      <th></th>\n",
       "      <th>X1</th>\n",
       "      <th>X2</th>\n",
       "      <th>X3</th>\n",
       "      <th>X4</th>\n",
       "      <th>X5</th>\n",
       "      <th>X6</th>\n",
       "      <th>X7</th>\n",
       "      <th>X8</th>\n",
       "      <th>X9</th>\n",
       "      <th>X10</th>\n",
       "      <th>...</th>\n",
       "      <th>X15</th>\n",
       "      <th>X16</th>\n",
       "      <th>X17</th>\n",
       "      <th>X18</th>\n",
       "      <th>X19</th>\n",
       "      <th>X20</th>\n",
       "      <th>X21</th>\n",
       "      <th>X22</th>\n",
       "      <th>X23</th>\n",
       "      <th>Y</th>\n",
       "    </tr>\n",
       "  </thead>\n",
       "  <tbody>\n",
       "    <tr>\n",
       "      <th>0</th>\n",
       "      <td>LIMIT_BAL</td>\n",
       "      <td>SEX</td>\n",
       "      <td>EDUCATION</td>\n",
       "      <td>MARRIAGE</td>\n",
       "      <td>AGE</td>\n",
       "      <td>PAY_0</td>\n",
       "      <td>PAY_2</td>\n",
       "      <td>PAY_3</td>\n",
       "      <td>PAY_4</td>\n",
       "      <td>PAY_5</td>\n",
       "      <td>...</td>\n",
       "      <td>BILL_AMT4</td>\n",
       "      <td>BILL_AMT5</td>\n",
       "      <td>BILL_AMT6</td>\n",
       "      <td>PAY_AMT1</td>\n",
       "      <td>PAY_AMT2</td>\n",
       "      <td>PAY_AMT3</td>\n",
       "      <td>PAY_AMT4</td>\n",
       "      <td>PAY_AMT5</td>\n",
       "      <td>PAY_AMT6</td>\n",
       "      <td>default payment next month</td>\n",
       "    </tr>\n",
       "    <tr>\n",
       "      <th>1</th>\n",
       "      <td>20000</td>\n",
       "      <td>female</td>\n",
       "      <td>university</td>\n",
       "      <td>1</td>\n",
       "      <td>24</td>\n",
       "      <td>2</td>\n",
       "      <td>2</td>\n",
       "      <td>-1</td>\n",
       "      <td>-1</td>\n",
       "      <td>-2</td>\n",
       "      <td>...</td>\n",
       "      <td>0</td>\n",
       "      <td>0</td>\n",
       "      <td>0</td>\n",
       "      <td>0</td>\n",
       "      <td>689</td>\n",
       "      <td>0</td>\n",
       "      <td>0</td>\n",
       "      <td>0</td>\n",
       "      <td>0</td>\n",
       "      <td>default</td>\n",
       "    </tr>\n",
       "    <tr>\n",
       "      <th>2</th>\n",
       "      <td>120000</td>\n",
       "      <td>female</td>\n",
       "      <td>university</td>\n",
       "      <td>2</td>\n",
       "      <td>26</td>\n",
       "      <td>-1</td>\n",
       "      <td>2</td>\n",
       "      <td>0</td>\n",
       "      <td>0</td>\n",
       "      <td>0</td>\n",
       "      <td>...</td>\n",
       "      <td>3272</td>\n",
       "      <td>3455</td>\n",
       "      <td>3261</td>\n",
       "      <td>0</td>\n",
       "      <td>1000</td>\n",
       "      <td>1000</td>\n",
       "      <td>1000</td>\n",
       "      <td>0</td>\n",
       "      <td>2000</td>\n",
       "      <td>default</td>\n",
       "    </tr>\n",
       "    <tr>\n",
       "      <th>3</th>\n",
       "      <td>90000</td>\n",
       "      <td>female</td>\n",
       "      <td>university</td>\n",
       "      <td>2</td>\n",
       "      <td>34</td>\n",
       "      <td>0</td>\n",
       "      <td>0</td>\n",
       "      <td>0</td>\n",
       "      <td>0</td>\n",
       "      <td>0</td>\n",
       "      <td>...</td>\n",
       "      <td>14331</td>\n",
       "      <td>14948</td>\n",
       "      <td>15549</td>\n",
       "      <td>1518</td>\n",
       "      <td>1500</td>\n",
       "      <td>1000</td>\n",
       "      <td>1000</td>\n",
       "      <td>1000</td>\n",
       "      <td>5000</td>\n",
       "      <td>not default</td>\n",
       "    </tr>\n",
       "    <tr>\n",
       "      <th>4</th>\n",
       "      <td>50000</td>\n",
       "      <td>female</td>\n",
       "      <td>university</td>\n",
       "      <td>1</td>\n",
       "      <td>37</td>\n",
       "      <td>0</td>\n",
       "      <td>0</td>\n",
       "      <td>0</td>\n",
       "      <td>0</td>\n",
       "      <td>0</td>\n",
       "      <td>...</td>\n",
       "      <td>28314</td>\n",
       "      <td>28959</td>\n",
       "      <td>29547</td>\n",
       "      <td>2000</td>\n",
       "      <td>2019</td>\n",
       "      <td>1200</td>\n",
       "      <td>1100</td>\n",
       "      <td>1069</td>\n",
       "      <td>1000</td>\n",
       "      <td>not default</td>\n",
       "    </tr>\n",
       "  </tbody>\n",
       "</table>\n",
       "<p>5 rows × 24 columns</p>\n",
       "</div>"
      ],
      "text/plain": [
       "          X1      X2          X3        X4   X5     X6     X7     X8     X9  \\\n",
       "0  LIMIT_BAL     SEX   EDUCATION  MARRIAGE  AGE  PAY_0  PAY_2  PAY_3  PAY_4   \n",
       "1      20000  female  university         1   24      2      2     -1     -1   \n",
       "2     120000  female  university         2   26     -1      2      0      0   \n",
       "3      90000  female  university         2   34      0      0      0      0   \n",
       "4      50000  female  university         1   37      0      0      0      0   \n",
       "\n",
       "     X10  ...        X15        X16        X17       X18       X19       X20  \\\n",
       "0  PAY_5  ...  BILL_AMT4  BILL_AMT5  BILL_AMT6  PAY_AMT1  PAY_AMT2  PAY_AMT3   \n",
       "1     -2  ...          0          0          0         0       689         0   \n",
       "2      0  ...       3272       3455       3261         0      1000      1000   \n",
       "3      0  ...      14331      14948      15549      1518      1500      1000   \n",
       "4      0  ...      28314      28959      29547      2000      2019      1200   \n",
       "\n",
       "        X21       X22       X23                           Y  \n",
       "0  PAY_AMT4  PAY_AMT5  PAY_AMT6  default payment next month  \n",
       "1         0         0         0                     default  \n",
       "2      1000         0      2000                     default  \n",
       "3      1000      1000      5000                 not default  \n",
       "4      1100      1069      1000                 not default  \n",
       "\n",
       "[5 rows x 24 columns]"
      ]
     },
     "execution_count": 8,
     "metadata": {},
     "output_type": "execute_result"
    }
   ],
   "source": [
    "credit.head()"
   ]
  },
  {
   "cell_type": "markdown",
   "id": "1e25a8bb",
   "metadata": {},
   "source": [
    "<h4 Style = \"color: #e35241\"> Informe EDA </h4>"
   ]
  },
  {
   "cell_type": "code",
   "execution_count": 9,
   "id": "30543d93",
   "metadata": {},
   "outputs": [
    {
     "name": "stdout",
     "output_type": "stream",
     "text": [
      "Collecting package metadata (current_repodata.json): ...working... done\n",
      "Solving environment: ...working... done\n",
      "\n",
      "## Package Plan ##\n",
      "\n",
      "  environment location: C:\\ProgramData\\anaconda3\n",
      "\n",
      "  added / updated specs:\n",
      "    - pandas-profiling\n",
      "\n",
      "\n",
      "The following NEW packages will be INSTALLED:\n",
      "\n",
      "  pandas-profiling   conda-forge/win-64::pandas-profiling-1.4.1-0 \n",
      "\n",
      "The following packages will be UPDATED:\n",
      "\n",
      "  ca-certificates    pkgs/main::ca-certificates-2023.01.10~ --> conda-forge::ca-certificates-2023.11.17-h56e8100_0 \n",
      "  certifi            pkgs/main/win-64::certifi-2022.12.7-p~ --> conda-forge/noarch::certifi-2023.11.17-pyhd8ed1ab_0 \n",
      "  openssl                                 1.1.1t-h2bbff1b_0 --> 1.1.1w-h2bbff1b_0 \n",
      "\n",
      "\n",
      "\n",
      "Downloading and Extracting Packages\n",
      "\n",
      "\n",
      "Preparing transaction: ...working... done\n",
      "Verifying transaction: ...working... failed\n",
      "\n",
      "Note: you may need to restart the kernel to use updated packages.\n"
     ]
    },
    {
     "name": "stderr",
     "output_type": "stream",
     "text": [
      "\n",
      "\n",
      "==> WARNING: A newer version of conda exists. <==\n",
      "  current version: 23.3.1\n",
      "  latest version: 23.10.0\n",
      "\n",
      "Please update conda by running\n",
      "\n",
      "    $ conda update -n base -c defaults conda\n",
      "\n",
      "Or to minimize the number of packages updated during conda update use\n",
      "\n",
      "     conda install conda=23.10.0\n",
      "\n",
      "\n",
      "\n",
      "EnvironmentNotWritableError: The current user does not have write permissions to the target environment.\n",
      "  environment location: C:\\ProgramData\\anaconda3\n",
      "\n",
      "\n"
     ]
    }
   ],
   "source": [
    "conda install -c conda-forge pandas-profiling"
   ]
  },
  {
   "cell_type": "code",
   "execution_count": 10,
   "id": "82969a0b",
   "metadata": {},
   "outputs": [
    {
     "name": "stdout",
     "output_type": "stream",
     "text": [
      "Collecting package metadata (current_repodata.json): ...working... done\n",
      "Solving environment: ...working... done\n",
      "\n",
      "## Package Plan ##\n",
      "\n",
      "  environment location: C:\\ProgramData\\anaconda3\n",
      "\n",
      "  added / updated specs:\n",
      "    - conda=23.10.0\n",
      "\n",
      "\n",
      "The following NEW packages will be INSTALLED:\n",
      "\n",
      "  archspec           pkgs/main/noarch::archspec-0.2.1-pyhd3eb1b0_0 \n",
      "  conda-libmamba-so~ pkgs/main/win-64::conda-libmamba-solver-23.11.1-py310haa95532_0 \n",
      "  fmt                pkgs/main/win-64::fmt-9.1.0-h6d14046_0 \n",
      "  libmamba           pkgs/main/win-64::libmamba-1.5.3-hcd6fe79_0 \n",
      "  libmambapy         pkgs/main/win-64::libmambapy-1.5.3-py310h77c03ed_0 \n",
      "  libsolv            pkgs/main/win-64::libsolv-0.7.24-h23ce68f_0 \n",
      "  pcre2              pkgs/main/win-64::pcre2-10.42-h0ff8eda_0 \n",
      "  pybind11-abi       pkgs/main/noarch::pybind11-abi-4-hd3eb1b0_1 \n",
      "  reproc             pkgs/main/win-64::reproc-14.2.4-hd77b12b_1 \n",
      "  reproc-cpp         pkgs/main/win-64::reproc-cpp-14.2.4-hd77b12b_1 \n",
      "  truststore         pkgs/main/win-64::truststore-0.8.0-py310haa95532_0 \n",
      "  yaml-cpp           pkgs/main/win-64::yaml-cpp-0.8.0-hd77b12b_0 \n",
      "\n",
      "The following packages will be REMOVED:\n",
      "\n",
      "  curl-7.87.0-h2bbff1b_0\n",
      "  pycurl-7.45.1-py310hcd4344a_0\n",
      "\n",
      "The following packages will be UPDATED:\n",
      "\n",
      "  ca-certificates                     2023.01.10-haa95532_0 --> 2023.08.22-haa95532_0 \n",
      "  certifi                         2022.12.7-py310haa95532_0 --> 2023.11.17-py310haa95532_0 \n",
      "  conda                              23.3.1-py310haa95532_0 --> 23.10.0-py310haa95532_0 \n",
      "  conda-package-han~                  2.0.2-py310haa95532_0 --> 2.2.0-py310haa95532_0 \n",
      "  conda-package-str~                  0.7.0-py310haa95532_0 --> 0.9.0-py310haa95532_0 \n",
      "  libarchive                               3.6.2-hebabd0d_0 --> 3.6.2-hb62f4d4_2 \n",
      "  libcurl                                 7.87.0-h86230a5_0 --> 8.1.1-h86230a5_0 \n",
      "  libssh2                                 1.10.0-hcd4344a_0 --> 1.10.0-he2ea4bf_2 \n",
      "  libxml2                                 2.9.14-h0ad7f3c_0 --> 2.10.4-h0ad7f3c_1 \n",
      "  libxslt                                 1.1.35-h2bbff1b_0 --> 1.1.37-h2bbff1b_1 \n",
      "  lxml                                4.9.1-py310h1985fb9_0 --> 4.9.3-py310h09808a7_0 \n",
      "  openssl                                 1.1.1t-h2bbff1b_0 --> 3.0.12-h2bbff1b_0 \n",
      "  packaging                            22.0-py310haa95532_0 --> 23.1-py310haa95532_0 \n",
      "  python                                  3.10.9-h966fe2a_1 --> 3.10.13-he1021f5_0 \n",
      "  qt-webengine                            5.15.9-hb9a9bb5_5 --> 5.15.9-h5bd16bc_7 \n",
      "  qtwebkit                                 5.212-h3ad3cdb_4 --> 5.212-h2bbfb41_5 \n",
      "  sqlite                                  3.40.1-h2bbff1b_0 --> 3.41.2-h2bbff1b_0 \n",
      "  xz                                      5.2.10-h8cc25b3_1 --> 5.4.2-h8cc25b3_0 \n",
      "\n",
      "\n",
      "\n",
      "Downloading and Extracting Packages\n",
      "\n",
      "\n",
      "Preparing transaction: ...working... done\n",
      "Verifying transaction: ...working... failed\n",
      "\n",
      "Note: you may need to restart the kernel to use updated packages.\n"
     ]
    },
    {
     "name": "stderr",
     "output_type": "stream",
     "text": [
      "\n",
      "EnvironmentNotWritableError: The current user does not have write permissions to the target environment.\n",
      "  environment location: C:\\ProgramData\\anaconda3\n",
      "\n",
      "\n"
     ]
    }
   ],
   "source": [
    "conda install conda=23.10.0"
   ]
  },
  {
   "cell_type": "code",
   "execution_count": 11,
   "id": "dabc8292",
   "metadata": {},
   "outputs": [],
   "source": [
    "import ydata_profiling"
   ]
  },
  {
   "cell_type": "code",
   "execution_count": 12,
   "id": "57aa1c63",
   "metadata": {},
   "outputs": [
    {
     "data": {
      "application/vnd.jupyter.widget-view+json": {
       "model_id": "e64066f0e56343bc803d8dfc0681cc34",
       "version_major": 2,
       "version_minor": 0
      },
      "text/plain": [
       "Summarize dataset:   0%|          | 0/5 [00:00<?, ?it/s]"
      ]
     },
     "metadata": {},
     "output_type": "display_data"
    },
    {
     "ename": "AttributeError",
     "evalue": "module 'matplotlib.cbook' has no attribute 'mplDeprecation'",
     "output_type": "error",
     "traceback": [
      "\u001b[1;31m---------------------------------------------------------------------------\u001b[0m",
      "\u001b[1;31mAttributeError\u001b[0m                            Traceback (most recent call last)",
      "File \u001b[1;32mC:\\ProgramData\\anaconda3\\lib\\site-packages\\IPython\\core\\formatters.py:342\u001b[0m, in \u001b[0;36mBaseFormatter.__call__\u001b[1;34m(self, obj)\u001b[0m\n\u001b[0;32m    340\u001b[0m     method \u001b[38;5;241m=\u001b[39m get_real_method(obj, \u001b[38;5;28mself\u001b[39m\u001b[38;5;241m.\u001b[39mprint_method)\n\u001b[0;32m    341\u001b[0m     \u001b[38;5;28;01mif\u001b[39;00m method \u001b[38;5;129;01mis\u001b[39;00m \u001b[38;5;129;01mnot\u001b[39;00m \u001b[38;5;28;01mNone\u001b[39;00m:\n\u001b[1;32m--> 342\u001b[0m         \u001b[38;5;28;01mreturn\u001b[39;00m \u001b[43mmethod\u001b[49m\u001b[43m(\u001b[49m\u001b[43m)\u001b[49m\n\u001b[0;32m    343\u001b[0m     \u001b[38;5;28;01mreturn\u001b[39;00m \u001b[38;5;28;01mNone\u001b[39;00m\n\u001b[0;32m    344\u001b[0m \u001b[38;5;28;01melse\u001b[39;00m:\n",
      "File \u001b[1;32m~\\AppData\\Roaming\\Python\\Python310\\site-packages\\ydata_profiling\\profile_report.py:520\u001b[0m, in \u001b[0;36mProfileReport._repr_html_\u001b[1;34m(self)\u001b[0m\n\u001b[0;32m    518\u001b[0m \u001b[38;5;28;01mdef\u001b[39;00m \u001b[38;5;21m_repr_html_\u001b[39m(\u001b[38;5;28mself\u001b[39m) \u001b[38;5;241m-\u001b[39m\u001b[38;5;241m>\u001b[39m \u001b[38;5;28;01mNone\u001b[39;00m:\n\u001b[0;32m    519\u001b[0m     \u001b[38;5;124;03m\"\"\"The ipython notebook widgets user interface gets called by the jupyter notebook.\"\"\"\u001b[39;00m\n\u001b[1;32m--> 520\u001b[0m     \u001b[38;5;28;43mself\u001b[39;49m\u001b[38;5;241;43m.\u001b[39;49m\u001b[43mto_notebook_iframe\u001b[49m\u001b[43m(\u001b[49m\u001b[43m)\u001b[49m\n",
      "File \u001b[1;32m~\\AppData\\Roaming\\Python\\Python310\\site-packages\\ydata_profiling\\profile_report.py:500\u001b[0m, in \u001b[0;36mProfileReport.to_notebook_iframe\u001b[1;34m(self)\u001b[0m\n\u001b[0;32m    498\u001b[0m \u001b[38;5;28;01mwith\u001b[39;00m warnings\u001b[38;5;241m.\u001b[39mcatch_warnings():\n\u001b[0;32m    499\u001b[0m     warnings\u001b[38;5;241m.\u001b[39msimplefilter(\u001b[38;5;124m\"\u001b[39m\u001b[38;5;124mignore\u001b[39m\u001b[38;5;124m\"\u001b[39m)\n\u001b[1;32m--> 500\u001b[0m     display(\u001b[43mget_notebook_iframe\u001b[49m\u001b[43m(\u001b[49m\u001b[38;5;28;43mself\u001b[39;49m\u001b[38;5;241;43m.\u001b[39;49m\u001b[43mconfig\u001b[49m\u001b[43m,\u001b[49m\u001b[43m \u001b[49m\u001b[38;5;28;43mself\u001b[39;49m\u001b[43m)\u001b[49m)\n",
      "File \u001b[1;32m~\\AppData\\Roaming\\Python\\Python310\\site-packages\\ydata_profiling\\report\\presentation\\flavours\\widget\\notebook.py:75\u001b[0m, in \u001b[0;36mget_notebook_iframe\u001b[1;34m(config, profile)\u001b[0m\n\u001b[0;32m     73\u001b[0m     output \u001b[38;5;241m=\u001b[39m get_notebook_iframe_src(config, profile)\n\u001b[0;32m     74\u001b[0m \u001b[38;5;28;01melif\u001b[39;00m attribute \u001b[38;5;241m==\u001b[39m IframeAttribute\u001b[38;5;241m.\u001b[39msrcdoc:\n\u001b[1;32m---> 75\u001b[0m     output \u001b[38;5;241m=\u001b[39m \u001b[43mget_notebook_iframe_srcdoc\u001b[49m\u001b[43m(\u001b[49m\u001b[43mconfig\u001b[49m\u001b[43m,\u001b[49m\u001b[43m \u001b[49m\u001b[43mprofile\u001b[49m\u001b[43m)\u001b[49m\n\u001b[0;32m     76\u001b[0m \u001b[38;5;28;01melse\u001b[39;00m:\n\u001b[0;32m     77\u001b[0m     \u001b[38;5;28;01mraise\u001b[39;00m \u001b[38;5;167;01mValueError\u001b[39;00m(\n\u001b[0;32m     78\u001b[0m         \u001b[38;5;124mf\u001b[39m\u001b[38;5;124m'\u001b[39m\u001b[38;5;124mIframe Attribute can be \u001b[39m\u001b[38;5;124m\"\u001b[39m\u001b[38;5;124msrc\u001b[39m\u001b[38;5;124m\"\u001b[39m\u001b[38;5;124m or \u001b[39m\u001b[38;5;124m\"\u001b[39m\u001b[38;5;124msrcdoc\u001b[39m\u001b[38;5;124m\"\u001b[39m\u001b[38;5;124m (current: \u001b[39m\u001b[38;5;132;01m{\u001b[39;00mattribute\u001b[38;5;132;01m}\u001b[39;00m\u001b[38;5;124m).\u001b[39m\u001b[38;5;124m'\u001b[39m\n\u001b[0;32m     79\u001b[0m     )\n",
      "File \u001b[1;32m~\\AppData\\Roaming\\Python\\Python310\\site-packages\\ydata_profiling\\report\\presentation\\flavours\\widget\\notebook.py:29\u001b[0m, in \u001b[0;36mget_notebook_iframe_srcdoc\u001b[1;34m(config, profile)\u001b[0m\n\u001b[0;32m     27\u001b[0m width \u001b[38;5;241m=\u001b[39m config\u001b[38;5;241m.\u001b[39mnotebook\u001b[38;5;241m.\u001b[39miframe\u001b[38;5;241m.\u001b[39mwidth\n\u001b[0;32m     28\u001b[0m height \u001b[38;5;241m=\u001b[39m config\u001b[38;5;241m.\u001b[39mnotebook\u001b[38;5;241m.\u001b[39miframe\u001b[38;5;241m.\u001b[39mheight\n\u001b[1;32m---> 29\u001b[0m src \u001b[38;5;241m=\u001b[39m html\u001b[38;5;241m.\u001b[39mescape(\u001b[43mprofile\u001b[49m\u001b[38;5;241;43m.\u001b[39;49m\u001b[43mto_html\u001b[49m\u001b[43m(\u001b[49m\u001b[43m)\u001b[49m)\n\u001b[0;32m     31\u001b[0m iframe \u001b[38;5;241m=\u001b[39m \u001b[38;5;124mf\u001b[39m\u001b[38;5;124m'\u001b[39m\u001b[38;5;124m<iframe width=\u001b[39m\u001b[38;5;124m\"\u001b[39m\u001b[38;5;132;01m{\u001b[39;00mwidth\u001b[38;5;132;01m}\u001b[39;00m\u001b[38;5;124m\"\u001b[39m\u001b[38;5;124m height=\u001b[39m\u001b[38;5;124m\"\u001b[39m\u001b[38;5;132;01m{\u001b[39;00mheight\u001b[38;5;132;01m}\u001b[39;00m\u001b[38;5;124m\"\u001b[39m\u001b[38;5;124m srcdoc=\u001b[39m\u001b[38;5;124m\"\u001b[39m\u001b[38;5;132;01m{\u001b[39;00msrc\u001b[38;5;132;01m}\u001b[39;00m\u001b[38;5;124m\"\u001b[39m\u001b[38;5;124m frameborder=\u001b[39m\u001b[38;5;124m\"\u001b[39m\u001b[38;5;124m0\u001b[39m\u001b[38;5;124m\"\u001b[39m\u001b[38;5;124m allowfullscreen></iframe>\u001b[39m\u001b[38;5;124m'\u001b[39m\n\u001b[0;32m     33\u001b[0m \u001b[38;5;28;01mreturn\u001b[39;00m HTML(iframe)\n",
      "File \u001b[1;32m~\\AppData\\Roaming\\Python\\Python310\\site-packages\\ydata_profiling\\profile_report.py:470\u001b[0m, in \u001b[0;36mProfileReport.to_html\u001b[1;34m(self)\u001b[0m\n\u001b[0;32m    462\u001b[0m \u001b[38;5;28;01mdef\u001b[39;00m \u001b[38;5;21mto_html\u001b[39m(\u001b[38;5;28mself\u001b[39m) \u001b[38;5;241m-\u001b[39m\u001b[38;5;241m>\u001b[39m \u001b[38;5;28mstr\u001b[39m:\n\u001b[0;32m    463\u001b[0m     \u001b[38;5;124;03m\"\"\"Generate and return complete template as lengthy string\u001b[39;00m\n\u001b[0;32m    464\u001b[0m \u001b[38;5;124;03m        for using with frameworks.\u001b[39;00m\n\u001b[0;32m    465\u001b[0m \n\u001b[1;32m   (...)\u001b[0m\n\u001b[0;32m    468\u001b[0m \n\u001b[0;32m    469\u001b[0m \u001b[38;5;124;03m    \"\"\"\u001b[39;00m\n\u001b[1;32m--> 470\u001b[0m     \u001b[38;5;28;01mreturn\u001b[39;00m \u001b[38;5;28mself\u001b[39m\u001b[38;5;241m.\u001b[39mhtml\n",
      "File \u001b[1;32m~\\AppData\\Roaming\\Python\\Python310\\site-packages\\ydata_profiling\\profile_report.py:277\u001b[0m, in \u001b[0;36mProfileReport.html\u001b[1;34m(self)\u001b[0m\n\u001b[0;32m    274\u001b[0m \u001b[38;5;129m@property\u001b[39m\n\u001b[0;32m    275\u001b[0m \u001b[38;5;28;01mdef\u001b[39;00m \u001b[38;5;21mhtml\u001b[39m(\u001b[38;5;28mself\u001b[39m) \u001b[38;5;241m-\u001b[39m\u001b[38;5;241m>\u001b[39m \u001b[38;5;28mstr\u001b[39m:\n\u001b[0;32m    276\u001b[0m     \u001b[38;5;28;01mif\u001b[39;00m \u001b[38;5;28mself\u001b[39m\u001b[38;5;241m.\u001b[39m_html \u001b[38;5;129;01mis\u001b[39;00m \u001b[38;5;28;01mNone\u001b[39;00m:\n\u001b[1;32m--> 277\u001b[0m         \u001b[38;5;28mself\u001b[39m\u001b[38;5;241m.\u001b[39m_html \u001b[38;5;241m=\u001b[39m \u001b[38;5;28mself\u001b[39m\u001b[38;5;241m.\u001b[39m_render_html()\n\u001b[0;32m    278\u001b[0m     \u001b[38;5;28;01mreturn\u001b[39;00m \u001b[38;5;28mself\u001b[39m\u001b[38;5;241m.\u001b[39m_html\n",
      "File \u001b[1;32m~\\AppData\\Roaming\\Python\\Python310\\site-packages\\ydata_profiling\\profile_report.py:385\u001b[0m, in \u001b[0;36mProfileReport._render_html\u001b[1;34m(self)\u001b[0m\n\u001b[0;32m    382\u001b[0m \u001b[38;5;28;01mdef\u001b[39;00m \u001b[38;5;21m_render_html\u001b[39m(\u001b[38;5;28mself\u001b[39m) \u001b[38;5;241m-\u001b[39m\u001b[38;5;241m>\u001b[39m \u001b[38;5;28mstr\u001b[39m:\n\u001b[0;32m    383\u001b[0m     \u001b[38;5;28;01mfrom\u001b[39;00m \u001b[38;5;21;01mydata_profiling\u001b[39;00m\u001b[38;5;21;01m.\u001b[39;00m\u001b[38;5;21;01mreport\u001b[39;00m\u001b[38;5;21;01m.\u001b[39;00m\u001b[38;5;21;01mpresentation\u001b[39;00m\u001b[38;5;21;01m.\u001b[39;00m\u001b[38;5;21;01mflavours\u001b[39;00m \u001b[38;5;28;01mimport\u001b[39;00m HTMLReport\n\u001b[1;32m--> 385\u001b[0m     report \u001b[38;5;241m=\u001b[39m \u001b[38;5;28mself\u001b[39m\u001b[38;5;241m.\u001b[39mreport\n\u001b[0;32m    387\u001b[0m     \u001b[38;5;28;01mwith\u001b[39;00m tqdm(\n\u001b[0;32m    388\u001b[0m         total\u001b[38;5;241m=\u001b[39m\u001b[38;5;241m1\u001b[39m, desc\u001b[38;5;241m=\u001b[39m\u001b[38;5;124m\"\u001b[39m\u001b[38;5;124mRender HTML\u001b[39m\u001b[38;5;124m\"\u001b[39m, disable\u001b[38;5;241m=\u001b[39m\u001b[38;5;129;01mnot\u001b[39;00m \u001b[38;5;28mself\u001b[39m\u001b[38;5;241m.\u001b[39mconfig\u001b[38;5;241m.\u001b[39mprogress_bar\n\u001b[0;32m    389\u001b[0m     ) \u001b[38;5;28;01mas\u001b[39;00m pbar:\n\u001b[0;32m    390\u001b[0m         html \u001b[38;5;241m=\u001b[39m HTMLReport(copy\u001b[38;5;241m.\u001b[39mdeepcopy(report))\u001b[38;5;241m.\u001b[39mrender(\n\u001b[0;32m    391\u001b[0m             nav\u001b[38;5;241m=\u001b[39m\u001b[38;5;28mself\u001b[39m\u001b[38;5;241m.\u001b[39mconfig\u001b[38;5;241m.\u001b[39mhtml\u001b[38;5;241m.\u001b[39mnavbar_show,\n\u001b[0;32m    392\u001b[0m             offline\u001b[38;5;241m=\u001b[39m\u001b[38;5;28mself\u001b[39m\u001b[38;5;241m.\u001b[39mconfig\u001b[38;5;241m.\u001b[39mhtml\u001b[38;5;241m.\u001b[39muse_local_assets,\n\u001b[1;32m   (...)\u001b[0m\n\u001b[0;32m    400\u001b[0m             version\u001b[38;5;241m=\u001b[39m\u001b[38;5;28mself\u001b[39m\u001b[38;5;241m.\u001b[39mdescription_set\u001b[38;5;241m.\u001b[39mpackage[\u001b[38;5;124m\"\u001b[39m\u001b[38;5;124mydata_profiling_version\u001b[39m\u001b[38;5;124m\"\u001b[39m],\n\u001b[0;32m    401\u001b[0m         )\n",
      "File \u001b[1;32m~\\AppData\\Roaming\\Python\\Python310\\site-packages\\ydata_profiling\\profile_report.py:271\u001b[0m, in \u001b[0;36mProfileReport.report\u001b[1;34m(self)\u001b[0m\n\u001b[0;32m    268\u001b[0m \u001b[38;5;129m@property\u001b[39m\n\u001b[0;32m    269\u001b[0m \u001b[38;5;28;01mdef\u001b[39;00m \u001b[38;5;21mreport\u001b[39m(\u001b[38;5;28mself\u001b[39m) \u001b[38;5;241m-\u001b[39m\u001b[38;5;241m>\u001b[39m Root:\n\u001b[0;32m    270\u001b[0m     \u001b[38;5;28;01mif\u001b[39;00m \u001b[38;5;28mself\u001b[39m\u001b[38;5;241m.\u001b[39m_report \u001b[38;5;129;01mis\u001b[39;00m \u001b[38;5;28;01mNone\u001b[39;00m:\n\u001b[1;32m--> 271\u001b[0m         \u001b[38;5;28mself\u001b[39m\u001b[38;5;241m.\u001b[39m_report \u001b[38;5;241m=\u001b[39m get_report_structure(\u001b[38;5;28mself\u001b[39m\u001b[38;5;241m.\u001b[39mconfig, \u001b[38;5;28mself\u001b[39m\u001b[38;5;241m.\u001b[39mdescription_set)\n\u001b[0;32m    272\u001b[0m     \u001b[38;5;28;01mreturn\u001b[39;00m \u001b[38;5;28mself\u001b[39m\u001b[38;5;241m.\u001b[39m_report\n",
      "File \u001b[1;32m~\\AppData\\Roaming\\Python\\Python310\\site-packages\\ydata_profiling\\profile_report.py:253\u001b[0m, in \u001b[0;36mProfileReport.description_set\u001b[1;34m(self)\u001b[0m\n\u001b[0;32m    250\u001b[0m \u001b[38;5;129m@property\u001b[39m\n\u001b[0;32m    251\u001b[0m \u001b[38;5;28;01mdef\u001b[39;00m \u001b[38;5;21mdescription_set\u001b[39m(\u001b[38;5;28mself\u001b[39m) \u001b[38;5;241m-\u001b[39m\u001b[38;5;241m>\u001b[39m BaseDescription:\n\u001b[0;32m    252\u001b[0m     \u001b[38;5;28;01mif\u001b[39;00m \u001b[38;5;28mself\u001b[39m\u001b[38;5;241m.\u001b[39m_description_set \u001b[38;5;129;01mis\u001b[39;00m \u001b[38;5;28;01mNone\u001b[39;00m:\n\u001b[1;32m--> 253\u001b[0m         \u001b[38;5;28mself\u001b[39m\u001b[38;5;241m.\u001b[39m_description_set \u001b[38;5;241m=\u001b[39m describe_df(\n\u001b[0;32m    254\u001b[0m             \u001b[38;5;28mself\u001b[39m\u001b[38;5;241m.\u001b[39mconfig,\n\u001b[0;32m    255\u001b[0m             \u001b[38;5;28mself\u001b[39m\u001b[38;5;241m.\u001b[39mdf,\n\u001b[0;32m    256\u001b[0m             \u001b[38;5;28mself\u001b[39m\u001b[38;5;241m.\u001b[39msummarizer,\n\u001b[0;32m    257\u001b[0m             \u001b[38;5;28mself\u001b[39m\u001b[38;5;241m.\u001b[39mtypeset,\n\u001b[0;32m    258\u001b[0m             \u001b[38;5;28mself\u001b[39m\u001b[38;5;241m.\u001b[39m_sample,\n\u001b[0;32m    259\u001b[0m         )\n\u001b[0;32m    260\u001b[0m     \u001b[38;5;28;01mreturn\u001b[39;00m \u001b[38;5;28mself\u001b[39m\u001b[38;5;241m.\u001b[39m_description_set\n",
      "File \u001b[1;32m~\\AppData\\Roaming\\Python\\Python310\\site-packages\\ydata_profiling\\model\\describe.py:137\u001b[0m, in \u001b[0;36mdescribe\u001b[1;34m(config, df, summarizer, typeset, sample)\u001b[0m\n\u001b[0;32m    135\u001b[0m missing_map \u001b[38;5;241m=\u001b[39m get_missing_active(config, table_stats)\n\u001b[0;32m    136\u001b[0m pbar\u001b[38;5;241m.\u001b[39mtotal \u001b[38;5;241m+\u001b[39m\u001b[38;5;241m=\u001b[39m \u001b[38;5;28mlen\u001b[39m(missing_map)\n\u001b[1;32m--> 137\u001b[0m missing \u001b[38;5;241m=\u001b[39m {\n\u001b[0;32m    138\u001b[0m     name: progress(get_missing_diagram, pbar, \u001b[38;5;124mf\u001b[39m\u001b[38;5;124m\"\u001b[39m\u001b[38;5;124mMissing diagram \u001b[39m\u001b[38;5;132;01m{\u001b[39;00mname\u001b[38;5;132;01m}\u001b[39;00m\u001b[38;5;124m\"\u001b[39m)(\n\u001b[0;32m    139\u001b[0m         config, df, settings\n\u001b[0;32m    140\u001b[0m     )\n\u001b[0;32m    141\u001b[0m     \u001b[38;5;28;01mfor\u001b[39;00m name, settings \u001b[38;5;129;01min\u001b[39;00m missing_map\u001b[38;5;241m.\u001b[39mitems()\n\u001b[0;32m    142\u001b[0m }\n\u001b[0;32m    143\u001b[0m missing \u001b[38;5;241m=\u001b[39m {name: value \u001b[38;5;28;01mfor\u001b[39;00m name, value \u001b[38;5;129;01min\u001b[39;00m missing\u001b[38;5;241m.\u001b[39mitems() \u001b[38;5;28;01mif\u001b[39;00m value \u001b[38;5;129;01mis\u001b[39;00m \u001b[38;5;129;01mnot\u001b[39;00m \u001b[38;5;28;01mNone\u001b[39;00m}\n\u001b[0;32m    145\u001b[0m \u001b[38;5;66;03m# Sample\u001b[39;00m\n",
      "File \u001b[1;32m~\\AppData\\Roaming\\Python\\Python310\\site-packages\\ydata_profiling\\model\\describe.py:138\u001b[0m, in \u001b[0;36m<dictcomp>\u001b[1;34m(.0)\u001b[0m\n\u001b[0;32m    135\u001b[0m missing_map \u001b[38;5;241m=\u001b[39m get_missing_active(config, table_stats)\n\u001b[0;32m    136\u001b[0m pbar\u001b[38;5;241m.\u001b[39mtotal \u001b[38;5;241m+\u001b[39m\u001b[38;5;241m=\u001b[39m \u001b[38;5;28mlen\u001b[39m(missing_map)\n\u001b[0;32m    137\u001b[0m missing \u001b[38;5;241m=\u001b[39m {\n\u001b[1;32m--> 138\u001b[0m     name: \u001b[43mprogress\u001b[49m\u001b[43m(\u001b[49m\u001b[43mget_missing_diagram\u001b[49m\u001b[43m,\u001b[49m\u001b[43m \u001b[49m\u001b[43mpbar\u001b[49m\u001b[43m,\u001b[49m\u001b[43m \u001b[49m\u001b[38;5;124;43mf\u001b[39;49m\u001b[38;5;124;43m\"\u001b[39;49m\u001b[38;5;124;43mMissing diagram \u001b[39;49m\u001b[38;5;132;43;01m{\u001b[39;49;00m\u001b[43mname\u001b[49m\u001b[38;5;132;43;01m}\u001b[39;49;00m\u001b[38;5;124;43m\"\u001b[39;49m\u001b[43m)\u001b[49m\u001b[43m(\u001b[49m\n\u001b[0;32m    139\u001b[0m \u001b[43m        \u001b[49m\u001b[43mconfig\u001b[49m\u001b[43m,\u001b[49m\u001b[43m \u001b[49m\u001b[43mdf\u001b[49m\u001b[43m,\u001b[49m\u001b[43m \u001b[49m\u001b[43msettings\u001b[49m\n\u001b[0;32m    140\u001b[0m \u001b[43m    \u001b[49m\u001b[43m)\u001b[49m\n\u001b[0;32m    141\u001b[0m     \u001b[38;5;28;01mfor\u001b[39;00m name, settings \u001b[38;5;129;01min\u001b[39;00m missing_map\u001b[38;5;241m.\u001b[39mitems()\n\u001b[0;32m    142\u001b[0m }\n\u001b[0;32m    143\u001b[0m missing \u001b[38;5;241m=\u001b[39m {name: value \u001b[38;5;28;01mfor\u001b[39;00m name, value \u001b[38;5;129;01min\u001b[39;00m missing\u001b[38;5;241m.\u001b[39mitems() \u001b[38;5;28;01mif\u001b[39;00m value \u001b[38;5;129;01mis\u001b[39;00m \u001b[38;5;129;01mnot\u001b[39;00m \u001b[38;5;28;01mNone\u001b[39;00m}\n\u001b[0;32m    145\u001b[0m \u001b[38;5;66;03m# Sample\u001b[39;00m\n",
      "File \u001b[1;32m~\\AppData\\Roaming\\Python\\Python310\\site-packages\\ydata_profiling\\utils\\progress_bar.py:11\u001b[0m, in \u001b[0;36mprogress.<locals>.inner\u001b[1;34m(*args, **kwargs)\u001b[0m\n\u001b[0;32m      8\u001b[0m \u001b[38;5;129m@wraps\u001b[39m(fn)\n\u001b[0;32m      9\u001b[0m \u001b[38;5;28;01mdef\u001b[39;00m \u001b[38;5;21minner\u001b[39m(\u001b[38;5;241m*\u001b[39margs, \u001b[38;5;241m*\u001b[39m\u001b[38;5;241m*\u001b[39mkwargs) \u001b[38;5;241m-\u001b[39m\u001b[38;5;241m>\u001b[39m Any:\n\u001b[0;32m     10\u001b[0m     bar\u001b[38;5;241m.\u001b[39mset_postfix_str(message)\n\u001b[1;32m---> 11\u001b[0m     ret \u001b[38;5;241m=\u001b[39m fn(\u001b[38;5;241m*\u001b[39margs, \u001b[38;5;241m*\u001b[39m\u001b[38;5;241m*\u001b[39mkwargs)\n\u001b[0;32m     12\u001b[0m     bar\u001b[38;5;241m.\u001b[39mupdate()\n\u001b[0;32m     13\u001b[0m     \u001b[38;5;28;01mreturn\u001b[39;00m ret\n",
      "File \u001b[1;32m~\\AppData\\Roaming\\Python\\Python310\\site-packages\\ydata_profiling\\model\\missing.py:112\u001b[0m, in \u001b[0;36mget_missing_diagram\u001b[1;34m(config, df, settings)\u001b[0m\n\u001b[0;32m    109\u001b[0m \u001b[38;5;28;01mif\u001b[39;00m \u001b[38;5;28mlen\u001b[39m(df) \u001b[38;5;241m==\u001b[39m \u001b[38;5;241m0\u001b[39m:\n\u001b[0;32m    110\u001b[0m     \u001b[38;5;28;01mreturn\u001b[39;00m \u001b[38;5;28;01mNone\u001b[39;00m\n\u001b[1;32m--> 112\u001b[0m result \u001b[38;5;241m=\u001b[39m \u001b[43mhandle_missing\u001b[49m\u001b[43m(\u001b[49m\u001b[43msettings\u001b[49m\u001b[43m[\u001b[49m\u001b[38;5;124;43m\"\u001b[39;49m\u001b[38;5;124;43mname\u001b[39;49m\u001b[38;5;124;43m\"\u001b[39;49m\u001b[43m]\u001b[49m\u001b[43m,\u001b[49m\u001b[43m \u001b[49m\u001b[43msettings\u001b[49m\u001b[43m[\u001b[49m\u001b[38;5;124;43m\"\u001b[39;49m\u001b[38;5;124;43mfunction\u001b[39;49m\u001b[38;5;124;43m\"\u001b[39;49m\u001b[43m]\u001b[49m\u001b[43m)\u001b[49m\u001b[43m(\u001b[49m\u001b[43mconfig\u001b[49m\u001b[43m,\u001b[49m\u001b[43m \u001b[49m\u001b[43mdf\u001b[49m\u001b[43m)\u001b[49m\n\u001b[0;32m    113\u001b[0m \u001b[38;5;28;01mif\u001b[39;00m result \u001b[38;5;129;01mis\u001b[39;00m \u001b[38;5;28;01mNone\u001b[39;00m:\n\u001b[0;32m    114\u001b[0m     \u001b[38;5;28;01mreturn\u001b[39;00m \u001b[38;5;28;01mNone\u001b[39;00m\n",
      "File \u001b[1;32m~\\AppData\\Roaming\\Python\\Python310\\site-packages\\ydata_profiling\\model\\missing.py:88\u001b[0m, in \u001b[0;36mhandle_missing.<locals>.inner\u001b[1;34m(*args, **kwargs)\u001b[0m\n\u001b[0;32m     78\u001b[0m             warnings\u001b[38;5;241m.\u001b[39mwarn(\n\u001b[0;32m     79\u001b[0m                 \u001b[38;5;124mf\u001b[39m\u001b[38;5;124m\"\"\"\u001b[39m\u001b[38;5;124mThere was an attempt to generate the \u001b[39m\u001b[38;5;132;01m{\u001b[39;00mmissing_name\u001b[38;5;132;01m}\u001b[39;00m\u001b[38;5;124m missing values diagrams, but this failed.\u001b[39m\n\u001b[0;32m     80\u001b[0m \u001b[38;5;124mTo hide this warning, disable the calculation\u001b[39m\n\u001b[1;32m   (...)\u001b[0m\n\u001b[0;32m     84\u001b[0m \u001b[38;5;124m(include the error message: \u001b[39m\u001b[38;5;124m'\u001b[39m\u001b[38;5;132;01m{\u001b[39;00merror\u001b[38;5;132;01m}\u001b[39;00m\u001b[38;5;124m'\u001b[39m\u001b[38;5;124m)\u001b[39m\u001b[38;5;124m\"\"\"\u001b[39m\n\u001b[0;32m     85\u001b[0m             )\n\u001b[0;32m     87\u001b[0m         \u001b[38;5;28;01mtry\u001b[39;00m:\n\u001b[1;32m---> 88\u001b[0m             \u001b[38;5;28;01mreturn\u001b[39;00m \u001b[43mfn\u001b[49m\u001b[43m(\u001b[49m\u001b[38;5;241;43m*\u001b[39;49m\u001b[43margs\u001b[49m\u001b[43m,\u001b[49m\u001b[43m \u001b[49m\u001b[38;5;241;43m*\u001b[39;49m\u001b[43mkwargs\u001b[49m\u001b[43m)\u001b[49m\n\u001b[0;32m     89\u001b[0m         \u001b[38;5;28;01mexcept\u001b[39;00m \u001b[38;5;167;01mValueError\u001b[39;00m \u001b[38;5;28;01mas\u001b[39;00m e:\n\u001b[0;32m     90\u001b[0m             warn_missing(name, \u001b[38;5;28mstr\u001b[39m(e))\n",
      "File \u001b[1;32m~\\AppData\\Roaming\\Python\\Python310\\site-packages\\multimethod\\__init__.py:328\u001b[0m, in \u001b[0;36mmultimethod.__call__\u001b[1;34m(self, *args, **kwargs)\u001b[0m\n\u001b[0;32m    326\u001b[0m func \u001b[38;5;241m=\u001b[39m \u001b[38;5;28mself\u001b[39m[\u001b[38;5;28mtuple\u001b[39m(func(arg) \u001b[38;5;28;01mfor\u001b[39;00m func, arg \u001b[38;5;129;01min\u001b[39;00m \u001b[38;5;28mzip\u001b[39m(\u001b[38;5;28mself\u001b[39m\u001b[38;5;241m.\u001b[39mtype_checkers, args))]\n\u001b[0;32m    327\u001b[0m \u001b[38;5;28;01mtry\u001b[39;00m:\n\u001b[1;32m--> 328\u001b[0m     \u001b[38;5;28;01mreturn\u001b[39;00m func(\u001b[38;5;241m*\u001b[39margs, \u001b[38;5;241m*\u001b[39m\u001b[38;5;241m*\u001b[39mkwargs)\n\u001b[0;32m    329\u001b[0m \u001b[38;5;28;01mexcept\u001b[39;00m \u001b[38;5;167;01mTypeError\u001b[39;00m \u001b[38;5;28;01mas\u001b[39;00m ex:\n\u001b[0;32m    330\u001b[0m     \u001b[38;5;28;01mraise\u001b[39;00m DispatchError(\u001b[38;5;124mf\u001b[39m\u001b[38;5;124m\"\u001b[39m\u001b[38;5;124mFunction \u001b[39m\u001b[38;5;132;01m{\u001b[39;00mfunc\u001b[38;5;241m.\u001b[39m\u001b[38;5;18m__code__\u001b[39m\u001b[38;5;132;01m}\u001b[39;00m\u001b[38;5;124m\"\u001b[39m) \u001b[38;5;28;01mfrom\u001b[39;00m \u001b[38;5;21;01mex\u001b[39;00m\n",
      "File \u001b[1;32m~\\AppData\\Roaming\\Python\\Python310\\site-packages\\ydata_profiling\\model\\pandas\\missing_pandas.py:16\u001b[0m, in \u001b[0;36mpandas_missing_bar\u001b[1;34m(config, df)\u001b[0m\n\u001b[0;32m     13\u001b[0m \u001b[38;5;129m@missing_bar\u001b[39m\u001b[38;5;241m.\u001b[39mregister\n\u001b[0;32m     14\u001b[0m \u001b[38;5;28;01mdef\u001b[39;00m \u001b[38;5;21mpandas_missing_bar\u001b[39m(config: Settings, df: pd\u001b[38;5;241m.\u001b[39mDataFrame) \u001b[38;5;241m-\u001b[39m\u001b[38;5;241m>\u001b[39m \u001b[38;5;28mstr\u001b[39m:\n\u001b[0;32m     15\u001b[0m     notnull_counts \u001b[38;5;241m=\u001b[39m \u001b[38;5;28mlen\u001b[39m(df) \u001b[38;5;241m-\u001b[39m df\u001b[38;5;241m.\u001b[39misnull()\u001b[38;5;241m.\u001b[39msum()\n\u001b[1;32m---> 16\u001b[0m     \u001b[38;5;28;01mreturn\u001b[39;00m \u001b[43mplot_missing_bar\u001b[49m\u001b[43m(\u001b[49m\n\u001b[0;32m     17\u001b[0m \u001b[43m        \u001b[49m\u001b[43mconfig\u001b[49m\u001b[43m,\u001b[49m\n\u001b[0;32m     18\u001b[0m \u001b[43m        \u001b[49m\u001b[43mnotnull_counts\u001b[49m\u001b[38;5;241;43m=\u001b[39;49m\u001b[43mnotnull_counts\u001b[49m\u001b[43m,\u001b[49m\n\u001b[0;32m     19\u001b[0m \u001b[43m        \u001b[49m\u001b[43mnrows\u001b[49m\u001b[38;5;241;43m=\u001b[39;49m\u001b[38;5;28;43mlen\u001b[39;49m\u001b[43m(\u001b[49m\u001b[43mdf\u001b[49m\u001b[43m)\u001b[49m\u001b[43m,\u001b[49m\n\u001b[0;32m     20\u001b[0m \u001b[43m        \u001b[49m\u001b[43mcolumns\u001b[49m\u001b[38;5;241;43m=\u001b[39;49m\u001b[38;5;28;43mlist\u001b[39;49m\u001b[43m(\u001b[49m\u001b[43mdf\u001b[49m\u001b[38;5;241;43m.\u001b[39;49m\u001b[43mcolumns\u001b[49m\u001b[43m)\u001b[49m\u001b[43m,\u001b[49m\n\u001b[0;32m     21\u001b[0m \u001b[43m    \u001b[49m\u001b[43m)\u001b[49m\n",
      "File \u001b[1;32mC:\\ProgramData\\anaconda3\\lib\\contextlib.py:78\u001b[0m, in \u001b[0;36mContextDecorator.__call__.<locals>.inner\u001b[1;34m(*args, **kwds)\u001b[0m\n\u001b[0;32m     76\u001b[0m \u001b[38;5;129m@wraps\u001b[39m(func)\n\u001b[0;32m     77\u001b[0m \u001b[38;5;28;01mdef\u001b[39;00m \u001b[38;5;21minner\u001b[39m(\u001b[38;5;241m*\u001b[39margs, \u001b[38;5;241m*\u001b[39m\u001b[38;5;241m*\u001b[39mkwds):\n\u001b[1;32m---> 78\u001b[0m     \u001b[38;5;28;01mwith\u001b[39;00m \u001b[38;5;28mself\u001b[39m\u001b[38;5;241m.\u001b[39m_recreate_cm():\n\u001b[0;32m     79\u001b[0m         \u001b[38;5;28;01mreturn\u001b[39;00m func(\u001b[38;5;241m*\u001b[39margs, \u001b[38;5;241m*\u001b[39m\u001b[38;5;241m*\u001b[39mkwds)\n",
      "File \u001b[1;32mC:\\ProgramData\\anaconda3\\lib\\contextlib.py:142\u001b[0m, in \u001b[0;36m_GeneratorContextManager.__exit__\u001b[1;34m(self, typ, value, traceback)\u001b[0m\n\u001b[0;32m    140\u001b[0m \u001b[38;5;28;01mif\u001b[39;00m typ \u001b[38;5;129;01mis\u001b[39;00m \u001b[38;5;28;01mNone\u001b[39;00m:\n\u001b[0;32m    141\u001b[0m     \u001b[38;5;28;01mtry\u001b[39;00m:\n\u001b[1;32m--> 142\u001b[0m         \u001b[38;5;28;43mnext\u001b[39;49m\u001b[43m(\u001b[49m\u001b[38;5;28;43mself\u001b[39;49m\u001b[38;5;241;43m.\u001b[39;49m\u001b[43mgen\u001b[49m\u001b[43m)\u001b[49m\n\u001b[0;32m    143\u001b[0m     \u001b[38;5;28;01mexcept\u001b[39;00m \u001b[38;5;167;01mStopIteration\u001b[39;00m:\n\u001b[0;32m    144\u001b[0m         \u001b[38;5;28;01mreturn\u001b[39;00m \u001b[38;5;28;01mFalse\u001b[39;00m\n",
      "File \u001b[1;32m~\\AppData\\Roaming\\Python\\Python310\\site-packages\\ydata_profiling\\visualisation\\context.py:85\u001b[0m, in \u001b[0;36mmanage_matplotlib_context\u001b[1;34m()\u001b[0m\n\u001b[0;32m     83\u001b[0m deregister_matplotlib_converters()  \u001b[38;5;66;03m# revert to original unit registries\u001b[39;00m\n\u001b[0;32m     84\u001b[0m \u001b[38;5;28;01mwith\u001b[39;00m warnings\u001b[38;5;241m.\u001b[39mcatch_warnings():\n\u001b[1;32m---> 85\u001b[0m     warnings\u001b[38;5;241m.\u001b[39mfilterwarnings(\u001b[38;5;124m\"\u001b[39m\u001b[38;5;124mignore\u001b[39m\u001b[38;5;124m\"\u001b[39m, category\u001b[38;5;241m=\u001b[39m\u001b[43mmatplotlib\u001b[49m\u001b[38;5;241;43m.\u001b[39;49m\u001b[43mcbook\u001b[49m\u001b[38;5;241;43m.\u001b[39;49m\u001b[43mmplDeprecation\u001b[49m)\n\u001b[0;32m     86\u001b[0m     matplotlib\u001b[38;5;241m.\u001b[39mrcParams\u001b[38;5;241m.\u001b[39mupdate(originalRcParams)\n",
      "\u001b[1;31mAttributeError\u001b[0m: module 'matplotlib.cbook' has no attribute 'mplDeprecation'"
     ]
    },
    {
     "data": {
      "text/plain": []
     },
     "execution_count": 12,
     "metadata": {},
     "output_type": "execute_result"
    }
   ],
   "source": [
    "ydata_profiling.ProfileReport(credit)"
   ]
  },
  {
   "cell_type": "markdown",
   "id": "fdc6dccb",
   "metadata": {},
   "source": [
    "<h4 Style = \"color: #e35241\"> Limpieza de datos </h4>"
   ]
  },
  {
   "cell_type": "code",
   "execution_count": 13,
   "id": "d415dae7",
   "metadata": {},
   "outputs": [
    {
     "name": "stdout",
     "output_type": "stream",
     "text": [
      "[['LIMIT_BAL', 'SEX', 'EDUCATION', 'MARRIAGE', 'AGE', 'PAY_0', 'PAY_2', 'PAY_3', 'PAY_4', 'PAY_5', 'PAY_6', 'BILL_AMT1', 'BILL_AMT2', 'BILL_AMT3', 'BILL_AMT4', 'BILL_AMT5', 'BILL_AMT6', 'PAY_AMT1', 'PAY_AMT2', 'PAY_AMT3', 'PAY_AMT4', 'PAY_AMT5', 'PAY_AMT6', 'default payment next month'], ['LIMIT_BAL', 'SEX', 'EDUCATION', 'MARRIAGE', 'AGE', 'PAY_0', 'PAY_2', 'PAY_3', 'PAY_4', 'PAY_5', 'PAY_6', 'BILL_AMT1', 'BILL_AMT2', 'BILL_AMT3', 'BILL_AMT4', 'BILL_AMT5', 'BILL_AMT6', 'PAY_AMT1', 'PAY_AMT2', 'PAY_AMT3', 'PAY_AMT4', 'PAY_AMT5', 'PAY_AMT6', 'default payment next month']]\n"
     ]
    }
   ],
   "source": [
    "encabezado = credit.loc[credit['X1'] == 'LIMIT_BAL']\n",
    "df_list = encabezado.to_numpy().tolist()\n",
    "print(df_list)"
   ]
  },
  {
   "cell_type": "code",
   "execution_count": 14,
   "id": "4c198903",
   "metadata": {},
   "outputs": [
    {
     "data": {
      "text/html": [
       "<div>\n",
       "<style scoped>\n",
       "    .dataframe tbody tr th:only-of-type {\n",
       "        vertical-align: middle;\n",
       "    }\n",
       "\n",
       "    .dataframe tbody tr th {\n",
       "        vertical-align: top;\n",
       "    }\n",
       "\n",
       "    .dataframe thead th {\n",
       "        text-align: right;\n",
       "    }\n",
       "</style>\n",
       "<table border=\"1\" class=\"dataframe\">\n",
       "  <thead>\n",
       "    <tr style=\"text-align: right;\">\n",
       "      <th></th>\n",
       "      <th>index</th>\n",
       "      <th>LIMIT_BAL</th>\n",
       "      <th>SEX</th>\n",
       "      <th>EDUCATION</th>\n",
       "      <th>MARRIAGE</th>\n",
       "      <th>AGE</th>\n",
       "      <th>PAY_0</th>\n",
       "      <th>PAY_2</th>\n",
       "      <th>PAY_3</th>\n",
       "      <th>PAY_4</th>\n",
       "      <th>...</th>\n",
       "      <th>BILL_AMT4</th>\n",
       "      <th>BILL_AMT5</th>\n",
       "      <th>BILL_AMT6</th>\n",
       "      <th>PAY_AMT1</th>\n",
       "      <th>PAY_AMT2</th>\n",
       "      <th>PAY_AMT3</th>\n",
       "      <th>PAY_AMT4</th>\n",
       "      <th>PAY_AMT5</th>\n",
       "      <th>PAY_AMT6</th>\n",
       "      <th>default payment next month (Y)</th>\n",
       "    </tr>\n",
       "  </thead>\n",
       "  <tbody>\n",
       "    <tr>\n",
       "      <th>0</th>\n",
       "      <td>1</td>\n",
       "      <td>20000</td>\n",
       "      <td>female</td>\n",
       "      <td>university</td>\n",
       "      <td>1</td>\n",
       "      <td>24</td>\n",
       "      <td>2</td>\n",
       "      <td>2</td>\n",
       "      <td>-1</td>\n",
       "      <td>-1</td>\n",
       "      <td>...</td>\n",
       "      <td>0</td>\n",
       "      <td>0</td>\n",
       "      <td>0</td>\n",
       "      <td>0</td>\n",
       "      <td>689</td>\n",
       "      <td>0</td>\n",
       "      <td>0</td>\n",
       "      <td>0</td>\n",
       "      <td>0</td>\n",
       "      <td>default</td>\n",
       "    </tr>\n",
       "    <tr>\n",
       "      <th>1</th>\n",
       "      <td>2</td>\n",
       "      <td>120000</td>\n",
       "      <td>female</td>\n",
       "      <td>university</td>\n",
       "      <td>2</td>\n",
       "      <td>26</td>\n",
       "      <td>-1</td>\n",
       "      <td>2</td>\n",
       "      <td>0</td>\n",
       "      <td>0</td>\n",
       "      <td>...</td>\n",
       "      <td>3272</td>\n",
       "      <td>3455</td>\n",
       "      <td>3261</td>\n",
       "      <td>0</td>\n",
       "      <td>1000</td>\n",
       "      <td>1000</td>\n",
       "      <td>1000</td>\n",
       "      <td>0</td>\n",
       "      <td>2000</td>\n",
       "      <td>default</td>\n",
       "    </tr>\n",
       "    <tr>\n",
       "      <th>2</th>\n",
       "      <td>3</td>\n",
       "      <td>90000</td>\n",
       "      <td>female</td>\n",
       "      <td>university</td>\n",
       "      <td>2</td>\n",
       "      <td>34</td>\n",
       "      <td>0</td>\n",
       "      <td>0</td>\n",
       "      <td>0</td>\n",
       "      <td>0</td>\n",
       "      <td>...</td>\n",
       "      <td>14331</td>\n",
       "      <td>14948</td>\n",
       "      <td>15549</td>\n",
       "      <td>1518</td>\n",
       "      <td>1500</td>\n",
       "      <td>1000</td>\n",
       "      <td>1000</td>\n",
       "      <td>1000</td>\n",
       "      <td>5000</td>\n",
       "      <td>not default</td>\n",
       "    </tr>\n",
       "    <tr>\n",
       "      <th>3</th>\n",
       "      <td>4</td>\n",
       "      <td>50000</td>\n",
       "      <td>female</td>\n",
       "      <td>university</td>\n",
       "      <td>1</td>\n",
       "      <td>37</td>\n",
       "      <td>0</td>\n",
       "      <td>0</td>\n",
       "      <td>0</td>\n",
       "      <td>0</td>\n",
       "      <td>...</td>\n",
       "      <td>28314</td>\n",
       "      <td>28959</td>\n",
       "      <td>29547</td>\n",
       "      <td>2000</td>\n",
       "      <td>2019</td>\n",
       "      <td>1200</td>\n",
       "      <td>1100</td>\n",
       "      <td>1069</td>\n",
       "      <td>1000</td>\n",
       "      <td>not default</td>\n",
       "    </tr>\n",
       "    <tr>\n",
       "      <th>4</th>\n",
       "      <td>5</td>\n",
       "      <td>50000</td>\n",
       "      <td>male</td>\n",
       "      <td>university</td>\n",
       "      <td>1</td>\n",
       "      <td>57</td>\n",
       "      <td>-1</td>\n",
       "      <td>0</td>\n",
       "      <td>-1</td>\n",
       "      <td>0</td>\n",
       "      <td>...</td>\n",
       "      <td>20940</td>\n",
       "      <td>19146</td>\n",
       "      <td>19131</td>\n",
       "      <td>2000</td>\n",
       "      <td>36681</td>\n",
       "      <td>10000</td>\n",
       "      <td>9000</td>\n",
       "      <td>689</td>\n",
       "      <td>679</td>\n",
       "      <td>not default</td>\n",
       "    </tr>\n",
       "  </tbody>\n",
       "</table>\n",
       "<p>5 rows × 25 columns</p>\n",
       "</div>"
      ],
      "text/plain": [
       "   index LIMIT_BAL     SEX   EDUCATION MARRIAGE AGE PAY_0 PAY_2 PAY_3 PAY_4  \\\n",
       "0      1     20000  female  university        1  24     2     2    -1    -1   \n",
       "1      2    120000  female  university        2  26    -1     2     0     0   \n",
       "2      3     90000  female  university        2  34     0     0     0     0   \n",
       "3      4     50000  female  university        1  37     0     0     0     0   \n",
       "4      5     50000    male  university        1  57    -1     0    -1     0   \n",
       "\n",
       "   ... BILL_AMT4 BILL_AMT5 BILL_AMT6 PAY_AMT1 PAY_AMT2 PAY_AMT3 PAY_AMT4  \\\n",
       "0  ...         0         0         0        0      689        0        0   \n",
       "1  ...      3272      3455      3261        0     1000     1000     1000   \n",
       "2  ...     14331     14948     15549     1518     1500     1000     1000   \n",
       "3  ...     28314     28959     29547     2000     2019     1200     1100   \n",
       "4  ...     20940     19146     19131     2000    36681    10000     9000   \n",
       "\n",
       "  PAY_AMT5 PAY_AMT6 default payment next month (Y)  \n",
       "0        0        0                        default  \n",
       "1        0     2000                        default  \n",
       "2     1000     5000                    not default  \n",
       "3     1069     1000                    not default  \n",
       "4      689      679                    not default  \n",
       "\n",
       "[5 rows x 25 columns]"
      ]
     },
     "execution_count": 14,
     "metadata": {},
     "output_type": "execute_result"
    }
   ],
   "source": [
    "credit = credit.rename(columns={'X1':'LIMIT_BAL', 'X2':'SEX', 'X3':'EDUCATION', 'X4':'MARRIAGE',\n",
    "                                'X5':'AGE', 'X6':'PAY_0', 'X7':'PAY_2', 'X8':'PAY_3', 'X9':'PAY_4',\n",
    "                                'X10':'PAY_5', 'X11':'PAY_6','X12':'BILL_AMT1', 'X13':'BILL_AMT2',\n",
    "                                'X14':'BILL_AMT3', 'X15':'BILL_AMT4', 'X16':'BILL_AMT5', 'X17':'BILL_AMT6',\n",
    "                                'X18':'PAY_AMT1', 'X19':'PAY_AMT2', 'X20':'PAY_AMT3', 'X21':'PAY_AMT4',\n",
    "                                'X22':'PAY_AMT5', 'X23':'PAY_AMT6', 'Y':'default payment next month (Y)'})\n",
    "\n",
    "credit.drop([0], axis=0, inplace=True)\n",
    "credit.reset_index(inplace=True, drop=False)\n",
    "credit.head(5)"
   ]
  },
  {
   "cell_type": "code",
   "execution_count": 15,
   "id": "c8cc3b1d",
   "metadata": {},
   "outputs": [],
   "source": [
    "import numpy as np"
   ]
  },
  {
   "cell_type": "code",
   "execution_count": 16,
   "id": "98d01fcd",
   "metadata": {},
   "outputs": [
    {
     "name": "stdout",
     "output_type": "stream",
     "text": [
      "<class 'pandas.core.frame.DataFrame'>\n",
      "RangeIndex: 3669 entries, 0 to 3668\n",
      "Data columns (total 25 columns):\n",
      " #   Column                          Non-Null Count  Dtype \n",
      "---  ------                          --------------  ----- \n",
      " 0   index                           3669 non-null   int64 \n",
      " 1   LIMIT_BAL                       3669 non-null   object\n",
      " 2   SEX                             3669 non-null   object\n",
      " 3   EDUCATION                       3669 non-null   object\n",
      " 4   MARRIAGE                        3669 non-null   object\n",
      " 5   AGE                             3669 non-null   object\n",
      " 6   PAY_0                           3669 non-null   object\n",
      " 7   PAY_2                           3669 non-null   object\n",
      " 8   PAY_3                           3669 non-null   object\n",
      " 9   PAY_4                           3669 non-null   object\n",
      " 10  PAY_5                           3669 non-null   object\n",
      " 11  PAY_6                           3669 non-null   object\n",
      " 12  BILL_AMT1                       3669 non-null   object\n",
      " 13  BILL_AMT2                       3669 non-null   object\n",
      " 14  BILL_AMT3                       3669 non-null   object\n",
      " 15  BILL_AMT4                       3669 non-null   object\n",
      " 16  BILL_AMT5                       3669 non-null   object\n",
      " 17  BILL_AMT6                       3669 non-null   object\n",
      " 18  PAY_AMT1                        3669 non-null   object\n",
      " 19  PAY_AMT2                        3669 non-null   object\n",
      " 20  PAY_AMT3                        3669 non-null   object\n",
      " 21  PAY_AMT4                        3669 non-null   object\n",
      " 22  PAY_AMT5                        3669 non-null   object\n",
      " 23  PAY_AMT6                        3669 non-null   object\n",
      " 24  default payment next month (Y)  3669 non-null   object\n",
      "dtypes: int64(1), object(24)\n",
      "memory usage: 716.7+ KB\n",
      "None\n"
     ]
    }
   ],
   "source": [
    "print(credit.info())"
   ]
  },
  {
   "cell_type": "code",
   "execution_count": 17,
   "id": "3eefeaa3",
   "metadata": {},
   "outputs": [],
   "source": [
    "credit[\"MARRIAGE\"] = credit[\"MARRIAGE\"].replace(\"MARRIAGE\", \"0\")"
   ]
  },
  {
   "cell_type": "code",
   "execution_count": 18,
   "id": "33e0b429",
   "metadata": {},
   "outputs": [],
   "source": [
    "credit[\"MARRIAGE\"] = credit[\"MARRIAGE\"].astype(\"int\")"
   ]
  },
  {
   "cell_type": "code",
   "execution_count": 19,
   "id": "81edbb88",
   "metadata": {},
   "outputs": [],
   "source": [
    "credit[\"AGE\"] = credit[\"AGE\"].replace(\"AGE\", \"0\")"
   ]
  },
  {
   "cell_type": "code",
   "execution_count": 20,
   "id": "a0ad4b5b",
   "metadata": {},
   "outputs": [],
   "source": [
    "credit[\"AGE\"] = credit[\"AGE\"].astype(\"int\")"
   ]
  },
  {
   "cell_type": "code",
   "execution_count": 21,
   "id": "e220fefe",
   "metadata": {},
   "outputs": [],
   "source": [
    "credit[\"PAY_0\"] = credit[\"PAY_0\"].replace(\"PAY_0\", \"0\")\n",
    "credit[\"PAY_0\"] = credit[\"PAY_0\"].astype(\"int\")"
   ]
  },
  {
   "cell_type": "code",
   "execution_count": 22,
   "id": "06c82de2",
   "metadata": {},
   "outputs": [],
   "source": [
    "credit[\"PAY_2\"] = credit[\"PAY_2\"].replace(\"PAY_2\", \"0\")\n",
    "credit[\"PAY_2\"] = credit[\"PAY_2\"].astype(\"int\")"
   ]
  },
  {
   "cell_type": "code",
   "execution_count": 23,
   "id": "8ee5bcfb",
   "metadata": {},
   "outputs": [],
   "source": [
    "credit[\"PAY_3\"] = credit[\"PAY_3\"].replace(\"PAY_3\", \"0\")\n",
    "credit[\"PAY_3\"] = credit[\"PAY_3\"].astype(\"int\")"
   ]
  },
  {
   "cell_type": "code",
   "execution_count": 24,
   "id": "c7d444be",
   "metadata": {},
   "outputs": [],
   "source": [
    "credit[\"PAY_4\"] = credit[\"PAY_4\"].replace(\"PAY_4\", \"0\")\n",
    "credit[\"PAY_4\"] = credit[\"PAY_4\"].astype(\"int\")"
   ]
  },
  {
   "cell_type": "code",
   "execution_count": 25,
   "id": "19715bfd",
   "metadata": {},
   "outputs": [],
   "source": [
    "credit[\"PAY_5\"] = credit[\"PAY_5\"].replace(\"PAY_5\", \"0\")\n",
    "credit[\"PAY_5\"] = credit[\"PAY_5\"].astype(\"int\")"
   ]
  },
  {
   "cell_type": "code",
   "execution_count": 26,
   "id": "39bb51a2",
   "metadata": {},
   "outputs": [],
   "source": [
    "credit[\"PAY_6\"] = credit[\"PAY_6\"].replace(\"PAY_6\", \"0\")\n",
    "credit[\"PAY_6\"] = credit[\"PAY_6\"].astype(\"int\")"
   ]
  },
  {
   "cell_type": "code",
   "execution_count": 27,
   "id": "ff337d5c",
   "metadata": {},
   "outputs": [],
   "source": [
    "credit[\"BILL_AMT1\"] = credit[\"BILL_AMT1\"].replace(\"BILL_AMT1\", \"0\")\n",
    "credit[\"BILL_AMT1\"] = credit[\"BILL_AMT1\"].astype(\"int\")\n",
    "\n",
    "credit[\"BILL_AMT2\"] = credit[\"BILL_AMT2\"].replace(\"BILL_AMT2\", \"0\")\n",
    "credit[\"BILL_AMT2\"] = credit[\"BILL_AMT2\"].astype(\"int\")\n",
    "\n",
    "credit[\"BILL_AMT3\"] = credit[\"BILL_AMT3\"].replace(\"BILL_AMT3\", \"0\")\n",
    "credit[\"BILL_AMT3\"] = credit[\"BILL_AMT3\"].astype(\"int\")\n",
    "\n",
    "credit[\"BILL_AMT4\"] = credit[\"BILL_AMT4\"].replace(\"BILL_AMT4\", \"0\")\n",
    "credit[\"BILL_AMT4\"] = credit[\"BILL_AMT4\"].astype(\"int\")\n",
    "\n",
    "credit[\"BILL_AMT5\"] = credit[\"BILL_AMT5\"].replace(\"BILL_AMT5\", \"0\")\n",
    "credit[\"BILL_AMT5\"] = credit[\"BILL_AMT5\"].astype(\"int\")\n",
    "\n",
    "credit[\"BILL_AMT6\"] = credit[\"BILL_AMT6\"].replace(\"BILL_AMT6\", \"0\")\n",
    "credit[\"BILL_AMT6\"] = credit[\"BILL_AMT6\"].astype(\"int\")"
   ]
  },
  {
   "cell_type": "code",
   "execution_count": 28,
   "id": "f9af8191",
   "metadata": {},
   "outputs": [],
   "source": [
    "credit[\"PAY_AMT1\"] = credit[\"PAY_AMT1\"].replace(\"PAY_AMT1\", \"0\")\n",
    "credit[\"PAY_AMT1\"] = credit[\"PAY_AMT1\"].astype(\"int\")\n",
    "\n",
    "credit[\"PAY_AMT2\"] = credit[\"PAY_AMT2\"].replace(\"PAY_AMT2\", \"0\")\n",
    "credit[\"PAY_AMT2\"] = credit[\"PAY_AMT2\"].astype(\"int\")\n",
    "\n",
    "credit[\"PAY_AMT3\"] = credit[\"PAY_AMT3\"].replace(\"PAY_AMT3\", \"0\")\n",
    "credit[\"PAY_AMT3\"] = credit[\"PAY_AMT3\"].astype(\"int\")\n",
    "\n",
    "credit[\"PAY_AMT4\"] = credit[\"PAY_AMT4\"].replace(\"PAY_AMT4\", \"0\")\n",
    "credit[\"PAY_AMT4\"] = credit[\"PAY_AMT4\"].astype(\"int\")\n",
    "\n",
    "credit[\"PAY_AMT5\"] = credit[\"PAY_AMT5\"].replace(\"PAY_AMT5\", \"0\")\n",
    "credit[\"PAY_AMT5\"] = credit[\"PAY_AMT5\"].astype(\"int\")\n",
    "\n",
    "credit[\"PAY_AMT6\"] = credit[\"PAY_AMT6\"].replace(\"PAY_AMT6\", \"0\")\n",
    "credit[\"PAY_AMT6\"] = credit[\"PAY_AMT6\"].astype(\"int\")"
   ]
  },
  {
   "cell_type": "code",
   "execution_count": 29,
   "id": "7a2ed354",
   "metadata": {},
   "outputs": [],
   "source": [
    "credit[\"LIMIT_BAL\"] = credit[\"LIMIT_BAL\"].replace(\"LIMIT_BAL\", \"0\")\n",
    "credit[\"LIMIT_BAL\"] = credit[\"LIMIT_BAL\"].astype(\"int\")"
   ]
  },
  {
   "cell_type": "markdown",
   "id": "f6052687",
   "metadata": {},
   "source": [
    "<h4 Style = \"color: #e35241\"> Trabajo con datos no numéricos </h4>"
   ]
  },
  {
   "cell_type": "code",
   "execution_count": 30,
   "id": "65a4944a",
   "metadata": {},
   "outputs": [
    {
     "data": {
      "text/plain": [
       "index                              int64\n",
       "LIMIT_BAL                          int32\n",
       "SEX                               object\n",
       "EDUCATION                         object\n",
       "MARRIAGE                           int32\n",
       "AGE                                int32\n",
       "PAY_0                              int32\n",
       "PAY_2                              int32\n",
       "PAY_3                              int32\n",
       "PAY_4                              int32\n",
       "PAY_5                              int32\n",
       "PAY_6                              int32\n",
       "BILL_AMT1                          int32\n",
       "BILL_AMT2                          int32\n",
       "BILL_AMT3                          int32\n",
       "BILL_AMT4                          int32\n",
       "BILL_AMT5                          int32\n",
       "BILL_AMT6                          int32\n",
       "PAY_AMT1                           int32\n",
       "PAY_AMT2                           int32\n",
       "PAY_AMT3                           int32\n",
       "PAY_AMT4                           int32\n",
       "PAY_AMT5                           int32\n",
       "PAY_AMT6                           int32\n",
       "default payment next month (Y)    object\n",
       "dtype: object"
      ]
     },
     "execution_count": 30,
     "metadata": {},
     "output_type": "execute_result"
    }
   ],
   "source": [
    "credit.dtypes"
   ]
  },
  {
   "cell_type": "markdown",
   "id": "90e7abe4",
   "metadata": {},
   "source": [
    "<h4 Style = \"color: #e35241\"> Visualización de datos </h4>"
   ]
  },
  {
   "cell_type": "code",
   "execution_count": 31,
   "id": "c8fce32f",
   "metadata": {},
   "outputs": [],
   "source": [
    "import matplotlib.pyplot as plt\n",
    "import matplotlib\n",
    "matplotlib.use('Qt5Agg')"
   ]
  },
  {
   "cell_type": "code",
   "execution_count": 32,
   "id": "07f3e279",
   "metadata": {},
   "outputs": [
    {
     "name": "stdout",
     "output_type": "stream",
     "text": [
      "Index(['index', 'LIMIT_BAL', 'SEX', 'EDUCATION', 'MARRIAGE', 'AGE', 'PAY_0',\n",
      "       'PAY_2', 'PAY_3', 'PAY_4', 'PAY_5', 'PAY_6', 'BILL_AMT1', 'BILL_AMT2',\n",
      "       'BILL_AMT3', 'BILL_AMT4', 'BILL_AMT5', 'BILL_AMT6', 'PAY_AMT1',\n",
      "       'PAY_AMT2', 'PAY_AMT3', 'PAY_AMT4', 'PAY_AMT5', 'PAY_AMT6',\n",
      "       'default payment next month (Y)'],\n",
      "      dtype='object')\n"
     ]
    }
   ],
   "source": [
    "header = credit.dtypes.index\n",
    "print(header)"
   ]
  },
  {
   "cell_type": "code",
   "execution_count": 33,
   "id": "3d00706a",
   "metadata": {},
   "outputs": [
    {
     "name": "stderr",
     "output_type": "stream",
     "text": [
      "C:\\Users\\Jonathan\\AppData\\Local\\Temp\\ipykernel_2396\\3627528102.py:3: UserWarning: FigureCanvasAgg is non-interactive, and thus cannot be shown\n",
      "  plt.show()\n"
     ]
    }
   ],
   "source": [
    "plt.hist(credit['AGE'])\n",
    "plt.title(\"Edades\")\n",
    "plt.show()"
   ]
  },
  {
   "cell_type": "code",
   "execution_count": 34,
   "id": "0c2af1c3",
   "metadata": {},
   "outputs": [
    {
     "name": "stderr",
     "output_type": "stream",
     "text": [
      "C:\\Users\\Jonathan\\AppData\\Local\\Temp\\ipykernel_2396\\1563270155.py:2: UserWarning: FigureCanvasAgg is non-interactive, and thus cannot be shown\n",
      "  plt.show()\n"
     ]
    }
   ],
   "source": [
    "plt.plot(credit['AGE'])\n",
    "plt.show()"
   ]
  },
  {
   "cell_type": "code",
   "execution_count": 35,
   "id": "76bc3eee",
   "metadata": {},
   "outputs": [
    {
     "name": "stderr",
     "output_type": "stream",
     "text": [
      "C:\\Users\\Jonathan\\AppData\\Local\\Temp\\ipykernel_2396\\1000168191.py:6: UserWarning: FigureCanvasAgg is non-interactive, and thus cannot be shown\n",
      "  plt.show()\n"
     ]
    }
   ],
   "source": [
    "x = credit['PAY_0']\n",
    "\n",
    "y = credit['PAY_2']\n",
    "\n",
    "plt.scatter(x,y)\n",
    "plt.show()"
   ]
  },
  {
   "cell_type": "markdown",
   "id": "8a851005",
   "metadata": {},
   "source": [
    "<h4 Style = \"color: #e35241\"> Correlación y covarianza </h4>"
   ]
  },
  {
   "cell_type": "code",
   "execution_count": 36,
   "id": "4710ec34",
   "metadata": {},
   "outputs": [
    {
     "name": "stdout",
     "output_type": "stream",
     "text": [
      "              index  LIMIT_BAL  MARRIAGE       AGE     PAY_0     PAY_2  \\\n",
      "index      1.000000  -0.002247 -0.016169  0.013500  0.001295  0.014660   \n",
      "LIMIT_BAL -0.002247   1.000000 -0.140852  0.159617 -0.193583 -0.245814   \n",
      "MARRIAGE  -0.016169  -0.140852  1.000000 -0.417175  0.032119  0.043189   \n",
      "AGE        0.013500   0.159617 -0.417175  1.000000 -0.023427 -0.038360   \n",
      "PAY_0      0.001295  -0.193583  0.032119 -0.023427  1.000000  0.637959   \n",
      "PAY_2      0.014660  -0.245814  0.043189 -0.038360  0.637959  1.000000   \n",
      "PAY_3      0.007848  -0.236412  0.047300 -0.044532  0.547880  0.758940   \n",
      "PAY_4      0.008458  -0.227645  0.051376 -0.025912  0.495354  0.666220   \n",
      "PAY_5      0.001583  -0.221596  0.046001 -0.012304  0.469963  0.637251   \n",
      "PAY_6      0.001454  -0.220720  0.044871 -0.011768  0.440812  0.599673   \n",
      "BILL_AMT1  0.008977   0.347273 -0.040716  0.064228  0.175291  0.229632   \n",
      "BILL_AMT2  0.008627   0.350574 -0.036007  0.059207  0.177921  0.232198   \n",
      "BILL_AMT3  0.003895   0.356330 -0.045881  0.066693  0.176781  0.233693   \n",
      "BILL_AMT4  0.001028   0.359934 -0.034529  0.057000  0.179035  0.232311   \n",
      "BILL_AMT5  0.003350   0.352223 -0.038704  0.051526  0.186491  0.236503   \n",
      "BILL_AMT6  0.004430   0.342986 -0.044532  0.061388  0.184705  0.229141   \n",
      "PAY_AMT1   0.007879   0.260002 -0.035578  0.033172 -0.098011 -0.067637   \n",
      "PAY_AMT2  -0.001644   0.261766 -0.061122  0.084421 -0.113125 -0.071117   \n",
      "PAY_AMT3   0.008535   0.218813 -0.024090  0.041834 -0.031521 -0.016015   \n",
      "PAY_AMT4  -0.002484   0.201696 -0.008093 -0.002413 -0.060955 -0.043585   \n",
      "PAY_AMT5  -0.003077   0.223196 -0.030984  0.031391 -0.038941 -0.035713   \n",
      "PAY_AMT6   0.003470   0.203058 -0.014364  0.049067 -0.067984 -0.029629   \n",
      "\n",
      "              PAY_3     PAY_4     PAY_5     PAY_6  ...  BILL_AMT3  BILL_AMT4  \\\n",
      "index      0.007848  0.008458  0.001583  0.001454  ...   0.003895   0.001028   \n",
      "LIMIT_BAL -0.236412 -0.227645 -0.221596 -0.220720  ...   0.356330   0.359934   \n",
      "MARRIAGE   0.047300  0.051376  0.046001  0.044871  ...  -0.045881  -0.034529   \n",
      "AGE       -0.044532 -0.025912 -0.012304 -0.011768  ...   0.066693   0.057000   \n",
      "PAY_0      0.547880  0.495354  0.469963  0.440812  ...   0.176781   0.179035   \n",
      "PAY_2      0.758940  0.666220  0.637251  0.599673  ...   0.233693   0.232311   \n",
      "PAY_3      1.000000  0.812819  0.726718  0.669041  ...   0.221238   0.221047   \n",
      "PAY_4      0.812819  1.000000  0.840002  0.744153  ...   0.255034   0.254365   \n",
      "PAY_5      0.726718  0.840002  1.000000  0.816071  ...   0.259965   0.274364   \n",
      "PAY_6      0.669041  0.744153  0.816071  1.000000  ...   0.251892   0.259830   \n",
      "BILL_AMT1  0.194925  0.204556  0.216427  0.214177  ...   0.915071   0.876852   \n",
      "BILL_AMT2  0.218465  0.222741  0.230430  0.230901  ...   0.949801   0.911495   \n",
      "BILL_AMT3  0.221238  0.255034  0.259965  0.251892  ...   1.000000   0.935300   \n",
      "BILL_AMT4  0.221047  0.254365  0.274364  0.259830  ...   0.935300   1.000000   \n",
      "BILL_AMT5  0.224432  0.259518  0.281407  0.286540  ...   0.912871   0.947710   \n",
      "BILL_AMT6  0.220300  0.251283  0.266745  0.277114  ...   0.886715   0.910964   \n",
      "PAY_AMT1  -0.004776 -0.020203 -0.028758 -0.002398  ...   0.229923   0.231481   \n",
      "PAY_AMT2  -0.088781  0.010846  0.013834 -0.017396  ...   0.311615   0.261288   \n",
      "PAY_AMT3  -0.018721 -0.046473  0.015059  0.004983  ...   0.182673   0.327774   \n",
      "PAY_AMT4  -0.045270 -0.027290 -0.055295  0.026742  ...   0.138907   0.171802   \n",
      "PAY_AMT5  -0.031109 -0.021666 -0.036856 -0.044476  ...   0.177470   0.150384   \n",
      "PAY_AMT6  -0.029301 -0.008412 -0.008556 -0.024176  ...   0.166290   0.165727   \n",
      "\n",
      "           BILL_AMT5  BILL_AMT6  PAY_AMT1  PAY_AMT2  PAY_AMT3  PAY_AMT4  \\\n",
      "index       0.003350   0.004430  0.007879 -0.001644  0.008535 -0.002484   \n",
      "LIMIT_BAL   0.352223   0.342986  0.260002  0.261766  0.218813  0.201696   \n",
      "MARRIAGE   -0.038704  -0.044532 -0.035578 -0.061122 -0.024090 -0.008093   \n",
      "AGE         0.051526   0.061388  0.033172  0.084421  0.041834 -0.002413   \n",
      "PAY_0       0.186491   0.184705 -0.098011 -0.113125 -0.031521 -0.060955   \n",
      "PAY_2       0.236503   0.229141 -0.067637 -0.071117 -0.016015 -0.043585   \n",
      "PAY_3       0.224432   0.220300 -0.004776 -0.088781 -0.018721 -0.045270   \n",
      "PAY_4       0.259518   0.251283 -0.020203  0.010846 -0.046473 -0.027290   \n",
      "PAY_5       0.281407   0.266745 -0.028758  0.013834  0.015059 -0.055295   \n",
      "PAY_6       0.286540   0.277114 -0.002398 -0.017396  0.004983  0.026742   \n",
      "BILL_AMT1   0.861828   0.852270  0.175149  0.165815  0.276077  0.168006   \n",
      "BILL_AMT2   0.893956   0.878834  0.301718  0.166552  0.287336  0.161183   \n",
      "BILL_AMT3   0.912871   0.886715  0.229923  0.311615  0.182673  0.138907   \n",
      "BILL_AMT4   0.947710   0.910964  0.231481  0.261288  0.327774  0.171802   \n",
      "BILL_AMT5   1.000000   0.943541  0.198842  0.206120  0.305249  0.282486   \n",
      "BILL_AMT6   0.943541   1.000000  0.181589  0.157708  0.300480  0.218203   \n",
      "PAY_AMT1    0.198842   0.181589  1.000000  0.216805  0.205765  0.132863   \n",
      "PAY_AMT2    0.206120   0.157708  0.216805  1.000000  0.148885  0.091662   \n",
      "PAY_AMT3    0.305249   0.300480  0.205765  0.148885  1.000000  0.132247   \n",
      "PAY_AMT4    0.282486   0.218203  0.132863  0.091662  0.132247  1.000000   \n",
      "PAY_AMT5    0.089668   0.283503  0.096443  0.157989  0.134984  0.100207   \n",
      "PAY_AMT6    0.154825   0.039458  0.201737  0.401809  0.125601  0.080786   \n",
      "\n",
      "           PAY_AMT5  PAY_AMT6  \n",
      "index     -0.003077  0.003470  \n",
      "LIMIT_BAL  0.223196  0.203058  \n",
      "MARRIAGE  -0.030984 -0.014364  \n",
      "AGE        0.031391  0.049067  \n",
      "PAY_0     -0.038941 -0.067984  \n",
      "PAY_2     -0.035713 -0.029629  \n",
      "PAY_3     -0.031109 -0.029301  \n",
      "PAY_4     -0.021666 -0.008412  \n",
      "PAY_5     -0.036856 -0.008556  \n",
      "PAY_6     -0.044476 -0.024176  \n",
      "BILL_AMT1  0.206645  0.101453  \n",
      "BILL_AMT2  0.191743  0.119899  \n",
      "BILL_AMT3  0.177470  0.166290  \n",
      "BILL_AMT4  0.150384  0.165727  \n",
      "BILL_AMT5  0.089668  0.154825  \n",
      "BILL_AMT6  0.283503  0.039458  \n",
      "PAY_AMT1   0.096443  0.201737  \n",
      "PAY_AMT2   0.157989  0.401809  \n",
      "PAY_AMT3   0.134984  0.125601  \n",
      "PAY_AMT4   0.100207  0.080786  \n",
      "PAY_AMT5   1.000000  0.096224  \n",
      "PAY_AMT6   0.096224  1.000000  \n",
      "\n",
      "[22 rows x 22 columns]\n"
     ]
    },
    {
     "name": "stderr",
     "output_type": "stream",
     "text": [
      "C:\\Users\\Jonathan\\AppData\\Local\\Temp\\ipykernel_2396\\4264262329.py:1: FutureWarning: The default value of numeric_only in DataFrame.corr is deprecated. In a future version, it will default to False. Select only valid columns or specify the value of numeric_only to silence this warning.\n",
      "  corrMat = credit.corr()\n"
     ]
    }
   ],
   "source": [
    "corrMat = credit.corr()\n",
    "print(corrMat)"
   ]
  },
  {
   "cell_type": "code",
   "execution_count": 37,
   "id": "2e9a3891",
   "metadata": {},
   "outputs": [
    {
     "name": "stdout",
     "output_type": "stream",
     "text": [
      "                  index     LIMIT_BAL     MARRIAGE            AGE  \\\n",
      "index      1.122102e+06 -3.083479e+05    -9.038713     135.214286   \n",
      "LIMIT_BAL -3.083479e+05  1.677636e+10 -9627.431250  195472.794699   \n",
      "MARRIAGE  -9.038713e+00 -9.627431e+03     0.278484      -2.081498   \n",
      "AGE        1.352143e+02  1.954728e+05    -2.081498      89.395459   \n",
      "PAY_0      1.549618e+00 -2.833117e+04     0.019152      -0.250282   \n",
      "PAY_2      1.874346e+01 -3.842983e+04     0.027510      -0.437772   \n",
      "PAY_3      1.042803e+01 -3.841197e+04     0.031312      -0.528177   \n",
      "PAY_4      1.060387e+01 -3.489619e+04     0.032087      -0.289960   \n",
      "PAY_5      1.953653e+00 -3.343233e+04     0.028276      -0.135506   \n",
      "PAY_6      1.832061e+00 -3.401707e+04     0.028175      -0.132394   \n",
      "BILL_AMT1  7.261754e+05  3.435038e+09 -1640.894079   46376.050928   \n",
      "BILL_AMT2  6.825877e+05  3.391832e+09 -1419.349503   41815.104072   \n",
      "BILL_AMT3  2.863390e+05  3.202912e+09 -1680.246500   43760.253993   \n",
      "BILL_AMT4  7.378895e+04  3.159377e+09 -1234.850024   36522.434028   \n",
      "BILL_AMT5  2.264428e+05  2.911112e+09 -1303.313455   31086.630107   \n",
      "BILL_AMT6  3.037790e+05  2.876022e+09 -1521.376675   37575.775495   \n",
      "PAY_AMT1   1.146405e+05  4.625475e+08  -257.876881    4307.809546   \n",
      "PAY_AMT2  -2.538368e+04  4.943359e+08  -470.277817   11637.713358   \n",
      "PAY_AMT3   1.755069e+05  5.501539e+08  -246.772792    7677.968953   \n",
      "PAY_AMT4  -3.621274e+04  3.595527e+08   -58.782314    -313.945403   \n",
      "PAY_AMT5  -5.670720e+04  5.029833e+08  -284.486693    5163.905955   \n",
      "PAY_AMT6   7.691321e+04  5.502771e+08  -158.597859    9706.478701   \n",
      "\n",
      "                  PAY_0         PAY_2         PAY_3         PAY_4  \\\n",
      "index          1.549618     18.743457     10.428026     10.603871   \n",
      "LIMIT_BAL -28331.165832 -38429.831358 -38411.968977 -34896.193995   \n",
      "MARRIAGE       0.019152      0.027510      0.031312      0.032087   \n",
      "AGE           -0.250282     -0.437772     -0.528177     -0.289960   \n",
      "PAY_0          1.276717      0.870068      0.776571      0.662422   \n",
      "PAY_2          0.870068      1.456887      1.149129      0.951705   \n",
      "PAY_3          0.776571      1.149129      1.573608      1.206741   \n",
      "PAY_4          0.662422      0.951705      1.206741      1.400694   \n",
      "PAY_5          0.618539      0.895941      1.061868      1.157999   \n",
      "PAY_6          0.592661      0.861258      0.998636      1.047948   \n",
      "BILL_AMT1  15125.854426  21166.953002  18673.618920  18488.221734   \n",
      "BILL_AMT2  15016.921298  20935.213824  20470.856414  19691.459054   \n",
      "BILL_AMT3  13862.051333  19575.006675  19259.802393  20946.566923   \n",
      "BILL_AMT4  13709.295230  19002.584991  18791.596648  20401.383590   \n",
      "BILL_AMT5  13446.150801  18215.537759  17964.947698  19598.885434   \n",
      "BILL_AMT6  13511.129003  17905.323702  17890.765090  19253.156975   \n",
      "PAY_AMT1   -1521.087233  -1121.314715    -82.284723   -328.413961   \n",
      "PAY_AMT2   -1863.656816  -1251.545151  -1623.791241    187.156298   \n",
      "PAY_AMT3    -691.367979   -375.235126   -455.874387  -1067.671368   \n",
      "PAY_AMT4    -947.918146   -724.041747   -781.589322   -444.513428   \n",
      "PAY_AMT5    -765.550954   -750.004933   -678.969086   -446.133936   \n",
      "PAY_AMT6   -1607.196541   -748.254103   -769.034705   -208.286659   \n",
      "\n",
      "                  PAY_5         PAY_6  ...     BILL_AMT3     BILL_AMT4  \\\n",
      "index          1.953653      1.832061  ...  2.863390e+05  7.378895e+04   \n",
      "LIMIT_BAL -33432.328035 -34017.071916  ...  3.202912e+09  3.159377e+09   \n",
      "MARRIAGE       0.028276      0.028175  ... -1.680247e+03 -1.234850e+03   \n",
      "AGE           -0.135506     -0.132394  ...  4.376025e+04  3.652243e+04   \n",
      "PAY_0          0.618539      0.592661  ...  1.386205e+04  1.370930e+04   \n",
      "PAY_2          0.895941      0.861258  ...  1.957501e+04  1.900258e+04   \n",
      "PAY_3          1.061868      0.998636  ...  1.925980e+04  1.879160e+04   \n",
      "PAY_4          1.157999      1.047948  ...  2.094657e+04  2.040138e+04   \n",
      "PAY_5          1.356790      1.131071  ...  2.101429e+04  2.165780e+04   \n",
      "PAY_6          1.131071      1.415831  ...  2.080004e+04  2.095197e+04   \n",
      "BILL_AMT1  19252.161878  19462.124135  ...  4.849654e+09  4.538044e+09   \n",
      "BILL_AMT2  20049.331967  20522.763424  ...  4.923586e+09  4.614128e+09   \n",
      "BILL_AMT3  21014.285936  20800.035824  ...  4.816015e+09  4.398706e+09   \n",
      "BILL_AMT4  21657.796497  20951.968376  ...  4.398706e+09  4.592618e+09   \n",
      "BILL_AMT5  20916.242515  21756.255285  ...  4.042460e+09  4.098248e+09   \n",
      "BILL_AMT6  20114.999684  21346.692446  ...  3.983771e+09  3.996666e+09   \n",
      "PAY_AMT1    -460.095936    -39.192622  ...  2.191575e+08  2.154650e+08   \n",
      "PAY_AMT2     234.952428   -301.805893  ...  3.152993e+08  2.581719e+08   \n",
      "PAY_AMT3     340.490562    115.090389  ...  2.460817e+08  4.311885e+08   \n",
      "PAY_AMT4    -886.462125    437.940714  ...  1.326732e+08  1.602412e+08   \n",
      "PAY_AMT5    -746.931267   -920.768486  ...  2.142835e+08  1.773174e+08   \n",
      "PAY_AMT6    -208.514961   -601.862431  ...  2.414476e+08  2.349829e+08   \n",
      "\n",
      "              BILL_AMT5     BILL_AMT6      PAY_AMT1      PAY_AMT2  \\\n",
      "index      2.264428e+05  3.037790e+05  1.146405e+05 -2.538368e+04   \n",
      "LIMIT_BAL  2.911112e+09  2.876022e+09  4.625475e+08  4.943359e+08   \n",
      "MARRIAGE  -1.303313e+03 -1.521377e+03 -2.578769e+02 -4.702778e+02   \n",
      "AGE        3.108663e+04  3.757578e+04  4.307810e+03  1.163771e+04   \n",
      "PAY_0      1.344615e+04  1.351113e+04 -1.521087e+03 -1.863657e+03   \n",
      "PAY_2      1.821554e+04  1.790532e+04 -1.121315e+03 -1.251545e+03   \n",
      "PAY_3      1.796495e+04  1.789077e+04 -8.228472e+01 -1.623791e+03   \n",
      "PAY_4      1.959889e+04  1.925316e+04 -3.284140e+02  1.871563e+02   \n",
      "PAY_5      2.091624e+04  2.011500e+04 -4.600959e+02  2.349524e+02   \n",
      "PAY_6      2.175626e+04  2.134669e+04 -3.919262e+01 -3.018059e+02   \n",
      "BILL_AMT1  4.199766e+09  4.213627e+09  1.837171e+08  1.846272e+08   \n",
      "BILL_AMT2  4.261023e+09  4.249901e+09  3.095545e+08  1.813904e+08   \n",
      "BILL_AMT3  4.042460e+09  3.983771e+09  2.191575e+08  3.152993e+08   \n",
      "BILL_AMT4  4.098248e+09  3.996666e+09  2.154650e+08  2.581719e+08   \n",
      "BILL_AMT5  4.071785e+09  3.897803e+09  1.742739e+08  1.917667e+08   \n",
      "BILL_AMT6  3.897803e+09  4.191152e+09  1.614682e+08  1.488610e+08   \n",
      "PAY_AMT1   1.742739e+08  1.614682e+08  1.886521e+08  4.341706e+07   \n",
      "PAY_AMT2   1.917667e+08  1.488610e+08  4.341706e+07  2.125791e+08   \n",
      "PAY_AMT3   3.781018e+08  3.776113e+08  5.486116e+07  4.213789e+07   \n",
      "PAY_AMT4   2.480875e+08  1.944209e+08  2.511599e+07  1.839359e+07   \n",
      "PAY_AMT5   9.955221e+07  3.193327e+08  2.304736e+07  4.007788e+07   \n",
      "PAY_AMT6   2.067030e+08  5.344636e+07  5.797365e+07  1.225726e+08   \n",
      "\n",
      "               PAY_AMT3      PAY_AMT4      PAY_AMT5      PAY_AMT6  \n",
      "index      1.755069e+05 -3.621274e+04 -5.670720e+04  7.691321e+04  \n",
      "LIMIT_BAL  5.501539e+08  3.595527e+08  5.029833e+08  5.502771e+08  \n",
      "MARRIAGE  -2.467728e+02 -5.878231e+01 -2.844867e+02 -1.585979e+02  \n",
      "AGE        7.677969e+03 -3.139454e+02  5.163906e+03  9.706479e+03  \n",
      "PAY_0     -6.913680e+02 -9.479181e+02 -7.655510e+02 -1.607197e+03  \n",
      "PAY_2     -3.752351e+02 -7.240417e+02 -7.500049e+02 -7.482541e+02  \n",
      "PAY_3     -4.558744e+02 -7.815893e+02 -6.789691e+02 -7.690347e+02  \n",
      "PAY_4     -1.067671e+03 -4.445134e+02 -4.461339e+02 -2.082867e+02  \n",
      "PAY_5      3.404906e+02 -8.864621e+02 -7.469313e+02 -2.085150e+02  \n",
      "PAY_6      1.150904e+02  4.379407e+02 -9.207685e+02 -6.018624e+02  \n",
      "BILL_AMT1  4.092651e+08  1.765849e+08  2.745719e+08  1.621023e+08  \n",
      "BILL_AMT2  4.166359e+08  1.657064e+08  2.491975e+08  1.873842e+08  \n",
      "BILL_AMT3  2.460817e+08  1.326732e+08  2.142835e+08  2.414476e+08  \n",
      "BILL_AMT4  4.311885e+08  1.602412e+08  1.773174e+08  2.349829e+08  \n",
      "BILL_AMT5  3.781018e+08  2.480875e+08  9.955221e+07  2.067030e+08  \n",
      "BILL_AMT6  3.776113e+08  1.944209e+08  3.193327e+08  5.344636e+07  \n",
      "PAY_AMT1   5.486116e+07  2.511599e+07  2.304736e+07  5.797365e+07  \n",
      "PAY_AMT2   4.213789e+07  1.839359e+07  4.007788e+07  1.225726e+08  \n",
      "PAY_AMT3   3.768115e+08  3.533170e+07  4.558932e+07  5.101148e+07  \n",
      "PAY_AMT4   3.533170e+07  1.894223e+08  2.399554e+07  2.326290e+07  \n",
      "PAY_AMT5   4.558932e+07  2.399554e+07  3.027179e+08  3.502795e+07  \n",
      "PAY_AMT6   5.101148e+07  2.326290e+07  3.502795e+07  4.377507e+08  \n",
      "\n",
      "[22 rows x 22 columns]\n"
     ]
    },
    {
     "name": "stderr",
     "output_type": "stream",
     "text": [
      "C:\\Users\\Jonathan\\AppData\\Local\\Temp\\ipykernel_2396\\3199804705.py:1: FutureWarning: The default value of numeric_only in DataFrame.cov is deprecated. In a future version, it will default to False. Select only valid columns or specify the value of numeric_only to silence this warning.\n",
      "  covMat = credit.cov()\n"
     ]
    }
   ],
   "source": [
    "covMat = credit.cov()\n",
    "print(covMat)"
   ]
  },
  {
   "cell_type": "markdown",
   "id": "a65a2d02",
   "metadata": {},
   "source": [
    "<h4 Style = \"color: #e35241\"> Reducción de caracteristicas </h4>"
   ]
  },
  {
   "cell_type": "code",
   "execution_count": 38,
   "id": "e1bd1daa",
   "metadata": {},
   "outputs": [],
   "source": [
    "from sklearn import linear_model  \n",
    "from sklearn.preprocessing import StandardScaler \n",
    "from sklearn.decomposition import PCA "
   ]
  },
  {
   "cell_type": "code",
   "execution_count": 39,
   "id": "70801e8e",
   "metadata": {},
   "outputs": [
    {
     "data": {
      "text/plain": [
       "Index(['index', 'LIMIT_BAL', 'SEX', 'EDUCATION', 'MARRIAGE', 'AGE', 'PAY_0',\n",
       "       'PAY_2', 'PAY_3', 'PAY_4', 'PAY_5', 'PAY_6', 'BILL_AMT1', 'BILL_AMT2',\n",
       "       'BILL_AMT3', 'BILL_AMT4', 'BILL_AMT5', 'BILL_AMT6', 'PAY_AMT1',\n",
       "       'PAY_AMT2', 'PAY_AMT3', 'PAY_AMT4', 'PAY_AMT5', 'PAY_AMT6',\n",
       "       'default payment next month (Y)'],\n",
       "      dtype='object')"
      ]
     },
     "execution_count": 39,
     "metadata": {},
     "output_type": "execute_result"
    }
   ],
   "source": [
    "credit.columns"
   ]
  },
  {
   "cell_type": "code",
   "execution_count": 40,
   "id": "31988551",
   "metadata": {},
   "outputs": [],
   "source": [
    "credit = credit.rename(columns={'default payment next month (Y)':'Y'})"
   ]
  },
  {
   "cell_type": "code",
   "execution_count": 41,
   "id": "96093c60",
   "metadata": {},
   "outputs": [
    {
     "name": "stdout",
     "output_type": "stream",
     "text": [
      "[[-1.12920499e+00 -1.20001626e+00  1.76955594e+00 ... -3.50787255e-01\n",
      "  -2.92721168e-01 -2.47963333e-01]\n",
      " [-3.57039655e-01 -9.88457284e-01 -8.85863589e-01 ... -2.78119176e-01\n",
      "  -2.92721168e-01 -1.52359398e-01]\n",
      " [-5.88689255e-01 -1.42221373e-01 -7.23744762e-04 ... -2.78119176e-01\n",
      "  -2.35238070e-01 -8.95349486e-03]\n",
      " ...\n",
      " [-3.57039655e-01  1.75117093e-01 -8.85863589e-01 ... -2.05451098e-01\n",
      "  -2.92721168e-01 -1.71480185e-01]\n",
      " [ 1.06259547e-01 -3.53780351e-01 -7.23744762e-04 ... -2.78119176e-01\n",
      "  -2.35238070e-01 -2.00161366e-01]\n",
      " [-8.97555390e-01  2.29070687e+00 -7.23744762e-04 ... -2.23908790e-01\n",
      "  -1.77754972e-01 -1.61919792e-01]]\n"
     ]
    }
   ],
   "source": [
    "features = ['LIMIT_BAL', 'AGE', 'PAY_0', 'PAY_2','PAY_3', 'PAY_4', 'PAY_5', 'PAY_6', 'BILL_AMT1', 'BILL_AMT2',\n",
    "             'BILL_AMT3', 'BILL_AMT4', 'BILL_AMT5', 'BILL_AMT6', 'PAY_AMT1','PAY_AMT2', 'PAY_AMT3', 'PAY_AMT4',\n",
    "            'PAY_AMT5', 'PAY_AMT6']\n",
    "\n",
    "x = credit.loc[:, features].values\n",
    "\n",
    "y = credit.loc[:,['Y']].values\n",
    "\n",
    "x = StandardScaler().fit_transform(x)\n",
    "print (x)"
   ]
  },
  {
   "cell_type": "code",
   "execution_count": 42,
   "id": "c98834f2",
   "metadata": {},
   "outputs": [
    {
     "data": {
      "text/html": [
       "<div>\n",
       "<style scoped>\n",
       "    .dataframe tbody tr th:only-of-type {\n",
       "        vertical-align: middle;\n",
       "    }\n",
       "\n",
       "    .dataframe tbody tr th {\n",
       "        vertical-align: top;\n",
       "    }\n",
       "\n",
       "    .dataframe thead th {\n",
       "        text-align: right;\n",
       "    }\n",
       "</style>\n",
       "<table border=\"1\" class=\"dataframe\">\n",
       "  <thead>\n",
       "    <tr style=\"text-align: right;\">\n",
       "      <th></th>\n",
       "      <th>principal_component_1</th>\n",
       "      <th>principal_component_2</th>\n",
       "    </tr>\n",
       "  </thead>\n",
       "  <tbody>\n",
       "    <tr>\n",
       "      <th>0</th>\n",
       "      <td>-1.856622</td>\n",
       "      <td>-0.804536</td>\n",
       "    </tr>\n",
       "    <tr>\n",
       "      <th>1</th>\n",
       "      <td>-0.757139</td>\n",
       "      <td>-2.045120</td>\n",
       "    </tr>\n",
       "    <tr>\n",
       "      <th>2</th>\n",
       "      <td>-0.824746</td>\n",
       "      <td>-0.993607</td>\n",
       "    </tr>\n",
       "    <tr>\n",
       "      <th>3</th>\n",
       "      <td>-0.205757</td>\n",
       "      <td>-0.829079</td>\n",
       "    </tr>\n",
       "    <tr>\n",
       "      <th>4</th>\n",
       "      <td>-0.715353</td>\n",
       "      <td>0.101657</td>\n",
       "    </tr>\n",
       "    <tr>\n",
       "      <th>5</th>\n",
       "      <td>-0.196663</td>\n",
       "      <td>-0.822241</td>\n",
       "    </tr>\n",
       "    <tr>\n",
       "      <th>6</th>\n",
       "      <td>13.889458</td>\n",
       "      <td>6.514973</td>\n",
       "    </tr>\n",
       "    <tr>\n",
       "      <th>7</th>\n",
       "      <td>-1.784924</td>\n",
       "      <td>-0.403061</td>\n",
       "    </tr>\n",
       "    <tr>\n",
       "      <th>8</th>\n",
       "      <td>-0.690005</td>\n",
       "      <td>-1.587386</td>\n",
       "    </tr>\n",
       "    <tr>\n",
       "      <th>9</th>\n",
       "      <td>-2.747981</td>\n",
       "      <td>1.587456</td>\n",
       "    </tr>\n",
       "  </tbody>\n",
       "</table>\n",
       "</div>"
      ],
      "text/plain": [
       "   principal_component_1  principal_component_2\n",
       "0              -1.856622              -0.804536\n",
       "1              -0.757139              -2.045120\n",
       "2              -0.824746              -0.993607\n",
       "3              -0.205757              -0.829079\n",
       "4              -0.715353               0.101657\n",
       "5              -0.196663              -0.822241\n",
       "6              13.889458               6.514973\n",
       "7              -1.784924              -0.403061\n",
       "8              -0.690005              -1.587386\n",
       "9              -2.747981               1.587456"
      ]
     },
     "execution_count": 42,
     "metadata": {},
     "output_type": "execute_result"
    }
   ],
   "source": [
    "pca = PCA(n_components=2)\n",
    "\n",
    "principalComponents = pca.fit_transform(x)\n",
    "\n",
    "principalDf = pd.DataFrame(data = principalComponents\n",
    "             , columns = ['principal_component_1', 'principal_component_2'])\n",
    "\n",
    "principalDf.head(10)"
   ]
  },
  {
   "cell_type": "code",
   "execution_count": 43,
   "id": "9cfe99d6",
   "metadata": {},
   "outputs": [
    {
     "data": {
      "text/html": [
       "<div>\n",
       "<style scoped>\n",
       "    .dataframe tbody tr th:only-of-type {\n",
       "        vertical-align: middle;\n",
       "    }\n",
       "\n",
       "    .dataframe tbody tr th {\n",
       "        vertical-align: top;\n",
       "    }\n",
       "\n",
       "    .dataframe thead th {\n",
       "        text-align: right;\n",
       "    }\n",
       "</style>\n",
       "<table border=\"1\" class=\"dataframe\">\n",
       "  <thead>\n",
       "    <tr style=\"text-align: right;\">\n",
       "      <th></th>\n",
       "      <th>principal_component_1</th>\n",
       "      <th>principal_component_2</th>\n",
       "      <th>Y</th>\n",
       "    </tr>\n",
       "  </thead>\n",
       "  <tbody>\n",
       "    <tr>\n",
       "      <th>0</th>\n",
       "      <td>-1.856622</td>\n",
       "      <td>-0.804536</td>\n",
       "      <td>default</td>\n",
       "    </tr>\n",
       "    <tr>\n",
       "      <th>1</th>\n",
       "      <td>-0.757139</td>\n",
       "      <td>-2.045120</td>\n",
       "      <td>default</td>\n",
       "    </tr>\n",
       "    <tr>\n",
       "      <th>2</th>\n",
       "      <td>-0.824746</td>\n",
       "      <td>-0.993607</td>\n",
       "      <td>not default</td>\n",
       "    </tr>\n",
       "    <tr>\n",
       "      <th>3</th>\n",
       "      <td>-0.205757</td>\n",
       "      <td>-0.829079</td>\n",
       "      <td>not default</td>\n",
       "    </tr>\n",
       "    <tr>\n",
       "      <th>4</th>\n",
       "      <td>-0.715353</td>\n",
       "      <td>0.101657</td>\n",
       "      <td>not default</td>\n",
       "    </tr>\n",
       "    <tr>\n",
       "      <th>5</th>\n",
       "      <td>-0.196663</td>\n",
       "      <td>-0.822241</td>\n",
       "      <td>not default</td>\n",
       "    </tr>\n",
       "    <tr>\n",
       "      <th>6</th>\n",
       "      <td>13.889458</td>\n",
       "      <td>6.514973</td>\n",
       "      <td>not default</td>\n",
       "    </tr>\n",
       "    <tr>\n",
       "      <th>7</th>\n",
       "      <td>-1.784924</td>\n",
       "      <td>-0.403061</td>\n",
       "      <td>not default</td>\n",
       "    </tr>\n",
       "    <tr>\n",
       "      <th>8</th>\n",
       "      <td>-0.690005</td>\n",
       "      <td>-1.587386</td>\n",
       "      <td>not default</td>\n",
       "    </tr>\n",
       "    <tr>\n",
       "      <th>9</th>\n",
       "      <td>-2.747981</td>\n",
       "      <td>1.587456</td>\n",
       "      <td>not default</td>\n",
       "    </tr>\n",
       "  </tbody>\n",
       "</table>\n",
       "</div>"
      ],
      "text/plain": [
       "   principal_component_1  principal_component_2            Y\n",
       "0              -1.856622              -0.804536      default\n",
       "1              -0.757139              -2.045120      default\n",
       "2              -0.824746              -0.993607  not default\n",
       "3              -0.205757              -0.829079  not default\n",
       "4              -0.715353               0.101657  not default\n",
       "5              -0.196663              -0.822241  not default\n",
       "6              13.889458               6.514973  not default\n",
       "7              -1.784924              -0.403061  not default\n",
       "8              -0.690005              -1.587386  not default\n",
       "9              -2.747981               1.587456  not default"
      ]
     },
     "execution_count": 43,
     "metadata": {},
     "output_type": "execute_result"
    }
   ],
   "source": [
    "finalDf = pd.concat([principalDf, credit[['Y']]], axis = 1)\n",
    "finalDf.head(10)"
   ]
  },
  {
   "cell_type": "code",
   "execution_count": 44,
   "id": "c888965c",
   "metadata": {},
   "outputs": [],
   "source": [
    "fig = plt.figure(figsize = (8,8))\n",
    "ax = fig.add_subplot(1,1,1) \n",
    "\n",
    "ax.set_xlabel('Componente Principal 1', fontsize = 10)\n",
    "ax.set_ylabel('Componente Principal 2', fontsize = 10)\n",
    "ax.set_title('Reducción PCA (2 Componentes Principales)', fontsize = 14)\n",
    "\n",
    "targets = ['default', 'not default']\n",
    "colors = ['#686466','#96d7eb']\n",
    "\n",
    "for target, color in zip(targets,colors):\n",
    "    indicesToKeep = finalDf['Y'] == target\n",
    "    ax.scatter(finalDf.loc[indicesToKeep, 'principal_component_1']\n",
    "               , finalDf.loc[indicesToKeep, 'principal_component_2']\n",
    "               , c = color\n",
    "               , s = 50\n",
    "               ,alpha=0.3\n",
    "               ,edgecolors='none')\n",
    "ax.legend(targets)\n",
    "ax.grid()"
   ]
  },
  {
   "cell_type": "markdown",
   "id": "779c5841",
   "metadata": {},
   "source": [
    "<h4 Style = \"color: #e35241\"> MLR </h4>"
   ]
  },
  {
   "cell_type": "code",
   "execution_count": 45,
   "id": "824ba3a9",
   "metadata": {},
   "outputs": [
    {
     "name": "stderr",
     "output_type": "stream",
     "text": [
      "C:\\Users\\Jonathan\\AppData\\Local\\Temp\\ipykernel_2396\\2980042422.py:3: UserWarning: FigureCanvasAgg is non-interactive, and thus cannot be shown\n",
      "  plt.show()\n"
     ]
    }
   ],
   "source": [
    "viz = finalDf[['principal_component_1','principal_component_2','Y']]\n",
    "viz.hist()\n",
    "plt.show()"
   ]
  },
  {
   "cell_type": "code",
   "execution_count": 46,
   "id": "a32f0386",
   "metadata": {},
   "outputs": [
    {
     "name": "stderr",
     "output_type": "stream",
     "text": [
      "C:\\Users\\Jonathan\\AppData\\Local\\Temp\\ipykernel_2396\\1463766270.py:4: UserWarning: FigureCanvasAgg is non-interactive, and thus cannot be shown\n",
      "  plt.show()\n"
     ]
    }
   ],
   "source": [
    "plt.scatter(finalDf.principal_component_1, finalDf.Y,  color='blue')\n",
    "plt.xlabel(\"PCA 1\")\n",
    "plt.ylabel(\"Y\")\n",
    "plt.show()"
   ]
  },
  {
   "cell_type": "code",
   "execution_count": 49,
   "id": "2f5f358a",
   "metadata": {},
   "outputs": [
    {
     "name": "stderr",
     "output_type": "stream",
     "text": [
      "C:\\Users\\Jonathan\\AppData\\Local\\Temp\\ipykernel_2396\\2176534885.py:4: UserWarning: FigureCanvasAgg is non-interactive, and thus cannot be shown\n",
      "  plt.show()\n"
     ]
    }
   ],
   "source": [
    "plt.scatter(finalDf.principal_component_2, finalDf.Y,  color='blue')\n",
    "plt.xlabel(\"PCA 2\")\n",
    "plt.ylabel(\"Y\")\n",
    "plt.show()"
   ]
  },
  {
   "cell_type": "markdown",
   "id": "b680c625",
   "metadata": {},
   "source": [
    "<h4 Style = \"color: #e35241\">La distribución no es homogenea, no se puede establecer un algoritmo de regresión lineal </h4>"
   ]
  },
  {
   "cell_type": "markdown",
   "id": "16ff5998",
   "metadata": {},
   "source": []
  }
 ],
 "metadata": {
  "kernelspec": {
   "display_name": "Python 3 (ipykernel)",
   "language": "python",
   "name": "python3"
  },
  "language_info": {
   "codemirror_mode": {
    "name": "ipython",
    "version": 3
   },
   "file_extension": ".py",
   "mimetype": "text/x-python",
   "name": "python",
   "nbconvert_exporter": "python",
   "pygments_lexer": "ipython3",
   "version": "3.10.9"
  }
 },
 "nbformat": 4,
 "nbformat_minor": 5
}
